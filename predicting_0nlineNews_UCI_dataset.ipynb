{
  "nbformat": 4,
  "nbformat_minor": 0,
  "metadata": {
    "colab": {
      "name": "predicting-0nlineNews-UCI-dataset.ipynb",
      "provenance": [],
      "collapsed_sections": [],
      "toc_visible": true,
      "authorship_tag": "ABX9TyMBP5TU1+/HWYHJGJTNUagI",
      "include_colab_link": true
    },
    "kernelspec": {
      "name": "python3",
      "display_name": "Python 3"
    }
  },
  "cells": [
    {
      "cell_type": "markdown",
      "metadata": {
        "id": "view-in-github",
        "colab_type": "text"
      },
      "source": [
        "<a href=\"https://colab.research.google.com/github/chanhee-kang/Data-Analysis-UCI-dataset-OnlineNewsPopulality/blob/master/predicting_0nlineNews_UCI_dataset.ipynb\" target=\"_parent\"><img src=\"https://colab.research.google.com/assets/colab-badge.svg\" alt=\"Open In Colab\"/></a>"
      ]
    },
    {
      "cell_type": "markdown",
      "metadata": {
        "id": "37ovxT7C7LLb",
        "colab_type": "text"
      },
      "source": [
        "# Assignment1 - Advanced  Data Analysis\n",
        "\n",
        "---\n",
        "\n",
        "**Problem**: The task of the assignment is to build a multivariate linear model for predicting the popularity of online news, which is to predict the number of shares for the article.<br>\n",
        "**Name**: Chanhee Kang (2019711601)"
      ]
    },
    {
      "cell_type": "markdown",
      "metadata": {
        "id": "FFag1SmKU1cl",
        "colab_type": "text"
      },
      "source": [
        "# Download Libraries for predicting online news dataset"
      ]
    },
    {
      "cell_type": "code",
      "metadata": {
        "id": "GS1dWEg9KHeD",
        "colab_type": "code",
        "colab": {
          "base_uri": "https://localhost:8080/",
          "height": 73
        },
        "outputId": "fc4b4f88-354a-4489-8e91-a99836c4a09a"
      },
      "source": [
        "# import libraries\n",
        "import numpy as np\n",
        "import pandas as pd\n",
        "from time import time\n",
        "%matplotlib inline\n",
        "import matplotlib.pyplot as plt\n",
        "import seaborn as sns\n",
        "from sklearn import tree\n",
        "from sklearn.tree import DecisionTreeRegressor\n",
        "from sklearn.ensemble import RandomForestRegressor\n",
        "from sklearn.model_selection import train_test_split\n",
        "from sklearn.linear_model import LinearRegression\n",
        "from sklearn.metrics import mean_squared_error\n",
        "from sklearn.metrics import mean_absolute_error\n",
        "from sklearn.model_selection import cross_val_score\n",
        "from sklearn.model_selection import GridSearchCV\n",
        "from sklearn.model_selection import RandomizedSearchCV\n",
        "from scipy.stats import randint"
      ],
      "execution_count": 1,
      "outputs": [
        {
          "output_type": "stream",
          "text": [
            "/usr/local/lib/python3.6/dist-packages/statsmodels/tools/_testing.py:19: FutureWarning: pandas.util.testing is deprecated. Use the functions in the public API at pandas.testing instead.\n",
            "  import pandas.util.testing as tm\n"
          ],
          "name": "stderr"
        }
      ]
    },
    {
      "cell_type": "markdown",
      "metadata": {
        "id": "Oi9Qm_-jVHQL",
        "colab_type": "text"
      },
      "source": [
        "# Download datasets, and the datasets is Online News Dataset from UCI\n",
        "http://archive.ics.uci.edu/ml/datasets/Online+News+Popularity"
      ]
    },
    {
      "cell_type": "code",
      "metadata": {
        "id": "6uvolixfKf-X",
        "colab_type": "code",
        "outputId": "f21aeaf8-f412-4bf3-f9e7-219e9871e164",
        "colab": {
          "base_uri": "https://localhost:8080/",
          "height": 309
        }
      },
      "source": [
        "# Load the dataset 'OnlineNewsPopularityDataset.csv'\n",
        "data = pd.read_csv('/content/sample_data/OnlineNewsPopularityDataset.csv')\n",
        "data.head()"
      ],
      "execution_count": 2,
      "outputs": [
        {
          "output_type": "execute_result",
          "data": {
            "text/html": [
              "<div>\n",
              "<style scoped>\n",
              "    .dataframe tbody tr th:only-of-type {\n",
              "        vertical-align: middle;\n",
              "    }\n",
              "\n",
              "    .dataframe tbody tr th {\n",
              "        vertical-align: top;\n",
              "    }\n",
              "\n",
              "    .dataframe thead th {\n",
              "        text-align: right;\n",
              "    }\n",
              "</style>\n",
              "<table border=\"1\" class=\"dataframe\">\n",
              "  <thead>\n",
              "    <tr style=\"text-align: right;\">\n",
              "      <th></th>\n",
              "      <th>url</th>\n",
              "      <th>timedelta</th>\n",
              "      <th>n_tokens_title</th>\n",
              "      <th>n_tokens_content</th>\n",
              "      <th>n_unique_tokens</th>\n",
              "      <th>n_non_stop_words</th>\n",
              "      <th>n_non_stop_unique_tokens</th>\n",
              "      <th>num_hrefs</th>\n",
              "      <th>num_self_hrefs</th>\n",
              "      <th>num_imgs</th>\n",
              "      <th>num_videos</th>\n",
              "      <th>average_token_length</th>\n",
              "      <th>num_keywords</th>\n",
              "      <th>data_channel_is_lifestyle</th>\n",
              "      <th>data_channel_is_entertainment</th>\n",
              "      <th>data_channel_is_bus</th>\n",
              "      <th>data_channel_is_socmed</th>\n",
              "      <th>data_channel_is_tech</th>\n",
              "      <th>data_channel_is_world</th>\n",
              "      <th>kw_min_min</th>\n",
              "      <th>kw_max_min</th>\n",
              "      <th>kw_avg_min</th>\n",
              "      <th>kw_min_max</th>\n",
              "      <th>kw_max_max</th>\n",
              "      <th>kw_avg_max</th>\n",
              "      <th>kw_min_avg</th>\n",
              "      <th>kw_max_avg</th>\n",
              "      <th>kw_avg_avg</th>\n",
              "      <th>self_reference_min_shares</th>\n",
              "      <th>self_reference_max_shares</th>\n",
              "      <th>self_reference_avg_sharess</th>\n",
              "      <th>weekday_is_monday</th>\n",
              "      <th>weekday_is_tuesday</th>\n",
              "      <th>weekday_is_wednesday</th>\n",
              "      <th>weekday_is_thursday</th>\n",
              "      <th>weekday_is_friday</th>\n",
              "      <th>weekday_is_saturday</th>\n",
              "      <th>weekday_is_sunday</th>\n",
              "      <th>is_weekend</th>\n",
              "      <th>LDA_00</th>\n",
              "      <th>LDA_01</th>\n",
              "      <th>LDA_02</th>\n",
              "      <th>LDA_03</th>\n",
              "      <th>LDA_04</th>\n",
              "      <th>global_subjectivity</th>\n",
              "      <th>global_sentiment_polarity</th>\n",
              "      <th>global_rate_positive_words</th>\n",
              "      <th>global_rate_negative_words</th>\n",
              "      <th>rate_positive_words</th>\n",
              "      <th>rate_negative_words</th>\n",
              "      <th>avg_positive_polarity</th>\n",
              "      <th>min_positive_polarity</th>\n",
              "      <th>max_positive_polarity</th>\n",
              "      <th>avg_negative_polarity</th>\n",
              "      <th>min_negative_polarity</th>\n",
              "      <th>max_negative_polarity</th>\n",
              "      <th>title_subjectivity</th>\n",
              "      <th>title_sentiment_polarity</th>\n",
              "      <th>abs_title_subjectivity</th>\n",
              "      <th>abs_title_sentiment_polarity</th>\n",
              "      <th>shares</th>\n",
              "    </tr>\n",
              "  </thead>\n",
              "  <tbody>\n",
              "    <tr>\n",
              "      <th>0</th>\n",
              "      <td>http://mashable.com/2013/01/07/amazon-instant-...</td>\n",
              "      <td>731</td>\n",
              "      <td>12</td>\n",
              "      <td>219</td>\n",
              "      <td>0.663594</td>\n",
              "      <td>1.0</td>\n",
              "      <td>0.815385</td>\n",
              "      <td>4</td>\n",
              "      <td>2</td>\n",
              "      <td>1</td>\n",
              "      <td>0</td>\n",
              "      <td>4.680365</td>\n",
              "      <td>5</td>\n",
              "      <td>0</td>\n",
              "      <td>1</td>\n",
              "      <td>0</td>\n",
              "      <td>0</td>\n",
              "      <td>0</td>\n",
              "      <td>0</td>\n",
              "      <td>0</td>\n",
              "      <td>0.0</td>\n",
              "      <td>0.0</td>\n",
              "      <td>0</td>\n",
              "      <td>0</td>\n",
              "      <td>0.0</td>\n",
              "      <td>0.0</td>\n",
              "      <td>0.0</td>\n",
              "      <td>0.0</td>\n",
              "      <td>496.0</td>\n",
              "      <td>496.0</td>\n",
              "      <td>496.000000</td>\n",
              "      <td>1</td>\n",
              "      <td>0</td>\n",
              "      <td>0</td>\n",
              "      <td>0</td>\n",
              "      <td>0</td>\n",
              "      <td>0</td>\n",
              "      <td>0</td>\n",
              "      <td>0</td>\n",
              "      <td>0.500331</td>\n",
              "      <td>0.378279</td>\n",
              "      <td>0.040005</td>\n",
              "      <td>0.041263</td>\n",
              "      <td>0.040123</td>\n",
              "      <td>0.521617</td>\n",
              "      <td>0.092562</td>\n",
              "      <td>0.045662</td>\n",
              "      <td>0.013699</td>\n",
              "      <td>0.769231</td>\n",
              "      <td>0.230769</td>\n",
              "      <td>0.378636</td>\n",
              "      <td>0.100000</td>\n",
              "      <td>0.7</td>\n",
              "      <td>-0.350000</td>\n",
              "      <td>-0.600</td>\n",
              "      <td>-0.200000</td>\n",
              "      <td>0.500000</td>\n",
              "      <td>-0.187500</td>\n",
              "      <td>0.000000</td>\n",
              "      <td>0.187500</td>\n",
              "      <td>593</td>\n",
              "    </tr>\n",
              "    <tr>\n",
              "      <th>1</th>\n",
              "      <td>http://mashable.com/2013/01/07/ap-samsung-spon...</td>\n",
              "      <td>731</td>\n",
              "      <td>9</td>\n",
              "      <td>255</td>\n",
              "      <td>0.604743</td>\n",
              "      <td>1.0</td>\n",
              "      <td>0.791946</td>\n",
              "      <td>3</td>\n",
              "      <td>1</td>\n",
              "      <td>1</td>\n",
              "      <td>0</td>\n",
              "      <td>4.913725</td>\n",
              "      <td>4</td>\n",
              "      <td>0</td>\n",
              "      <td>0</td>\n",
              "      <td>1</td>\n",
              "      <td>0</td>\n",
              "      <td>0</td>\n",
              "      <td>0</td>\n",
              "      <td>0</td>\n",
              "      <td>0.0</td>\n",
              "      <td>0.0</td>\n",
              "      <td>0</td>\n",
              "      <td>0</td>\n",
              "      <td>0.0</td>\n",
              "      <td>0.0</td>\n",
              "      <td>0.0</td>\n",
              "      <td>0.0</td>\n",
              "      <td>0.0</td>\n",
              "      <td>0.0</td>\n",
              "      <td>0.000000</td>\n",
              "      <td>1</td>\n",
              "      <td>0</td>\n",
              "      <td>0</td>\n",
              "      <td>0</td>\n",
              "      <td>0</td>\n",
              "      <td>0</td>\n",
              "      <td>0</td>\n",
              "      <td>0</td>\n",
              "      <td>0.799756</td>\n",
              "      <td>0.050047</td>\n",
              "      <td>0.050096</td>\n",
              "      <td>0.050101</td>\n",
              "      <td>0.050001</td>\n",
              "      <td>0.341246</td>\n",
              "      <td>0.148948</td>\n",
              "      <td>0.043137</td>\n",
              "      <td>0.015686</td>\n",
              "      <td>0.733333</td>\n",
              "      <td>0.266667</td>\n",
              "      <td>0.286915</td>\n",
              "      <td>0.033333</td>\n",
              "      <td>0.7</td>\n",
              "      <td>-0.118750</td>\n",
              "      <td>-0.125</td>\n",
              "      <td>-0.100000</td>\n",
              "      <td>0.000000</td>\n",
              "      <td>0.000000</td>\n",
              "      <td>0.500000</td>\n",
              "      <td>0.000000</td>\n",
              "      <td>711</td>\n",
              "    </tr>\n",
              "    <tr>\n",
              "      <th>2</th>\n",
              "      <td>http://mashable.com/2013/01/07/apple-40-billio...</td>\n",
              "      <td>731</td>\n",
              "      <td>9</td>\n",
              "      <td>211</td>\n",
              "      <td>0.575130</td>\n",
              "      <td>1.0</td>\n",
              "      <td>0.663866</td>\n",
              "      <td>3</td>\n",
              "      <td>1</td>\n",
              "      <td>1</td>\n",
              "      <td>0</td>\n",
              "      <td>4.393365</td>\n",
              "      <td>6</td>\n",
              "      <td>0</td>\n",
              "      <td>0</td>\n",
              "      <td>1</td>\n",
              "      <td>0</td>\n",
              "      <td>0</td>\n",
              "      <td>0</td>\n",
              "      <td>0</td>\n",
              "      <td>0.0</td>\n",
              "      <td>0.0</td>\n",
              "      <td>0</td>\n",
              "      <td>0</td>\n",
              "      <td>0.0</td>\n",
              "      <td>0.0</td>\n",
              "      <td>0.0</td>\n",
              "      <td>0.0</td>\n",
              "      <td>918.0</td>\n",
              "      <td>918.0</td>\n",
              "      <td>918.000000</td>\n",
              "      <td>1</td>\n",
              "      <td>0</td>\n",
              "      <td>0</td>\n",
              "      <td>0</td>\n",
              "      <td>0</td>\n",
              "      <td>0</td>\n",
              "      <td>0</td>\n",
              "      <td>0</td>\n",
              "      <td>0.217792</td>\n",
              "      <td>0.033334</td>\n",
              "      <td>0.033351</td>\n",
              "      <td>0.033334</td>\n",
              "      <td>0.682188</td>\n",
              "      <td>0.702222</td>\n",
              "      <td>0.323333</td>\n",
              "      <td>0.056872</td>\n",
              "      <td>0.009479</td>\n",
              "      <td>0.857143</td>\n",
              "      <td>0.142857</td>\n",
              "      <td>0.495833</td>\n",
              "      <td>0.100000</td>\n",
              "      <td>1.0</td>\n",
              "      <td>-0.466667</td>\n",
              "      <td>-0.800</td>\n",
              "      <td>-0.133333</td>\n",
              "      <td>0.000000</td>\n",
              "      <td>0.000000</td>\n",
              "      <td>0.500000</td>\n",
              "      <td>0.000000</td>\n",
              "      <td>1500</td>\n",
              "    </tr>\n",
              "    <tr>\n",
              "      <th>3</th>\n",
              "      <td>http://mashable.com/2013/01/07/astronaut-notre...</td>\n",
              "      <td>731</td>\n",
              "      <td>9</td>\n",
              "      <td>531</td>\n",
              "      <td>0.503788</td>\n",
              "      <td>1.0</td>\n",
              "      <td>0.665635</td>\n",
              "      <td>9</td>\n",
              "      <td>0</td>\n",
              "      <td>1</td>\n",
              "      <td>0</td>\n",
              "      <td>4.404896</td>\n",
              "      <td>7</td>\n",
              "      <td>0</td>\n",
              "      <td>1</td>\n",
              "      <td>0</td>\n",
              "      <td>0</td>\n",
              "      <td>0</td>\n",
              "      <td>0</td>\n",
              "      <td>0</td>\n",
              "      <td>0.0</td>\n",
              "      <td>0.0</td>\n",
              "      <td>0</td>\n",
              "      <td>0</td>\n",
              "      <td>0.0</td>\n",
              "      <td>0.0</td>\n",
              "      <td>0.0</td>\n",
              "      <td>0.0</td>\n",
              "      <td>0.0</td>\n",
              "      <td>0.0</td>\n",
              "      <td>0.000000</td>\n",
              "      <td>1</td>\n",
              "      <td>0</td>\n",
              "      <td>0</td>\n",
              "      <td>0</td>\n",
              "      <td>0</td>\n",
              "      <td>0</td>\n",
              "      <td>0</td>\n",
              "      <td>0</td>\n",
              "      <td>0.028573</td>\n",
              "      <td>0.419300</td>\n",
              "      <td>0.494651</td>\n",
              "      <td>0.028905</td>\n",
              "      <td>0.028572</td>\n",
              "      <td>0.429850</td>\n",
              "      <td>0.100705</td>\n",
              "      <td>0.041431</td>\n",
              "      <td>0.020716</td>\n",
              "      <td>0.666667</td>\n",
              "      <td>0.333333</td>\n",
              "      <td>0.385965</td>\n",
              "      <td>0.136364</td>\n",
              "      <td>0.8</td>\n",
              "      <td>-0.369697</td>\n",
              "      <td>-0.600</td>\n",
              "      <td>-0.166667</td>\n",
              "      <td>0.000000</td>\n",
              "      <td>0.000000</td>\n",
              "      <td>0.500000</td>\n",
              "      <td>0.000000</td>\n",
              "      <td>1200</td>\n",
              "    </tr>\n",
              "    <tr>\n",
              "      <th>4</th>\n",
              "      <td>http://mashable.com/2013/01/07/att-u-verse-apps/</td>\n",
              "      <td>731</td>\n",
              "      <td>13</td>\n",
              "      <td>1072</td>\n",
              "      <td>0.415646</td>\n",
              "      <td>1.0</td>\n",
              "      <td>0.540890</td>\n",
              "      <td>19</td>\n",
              "      <td>19</td>\n",
              "      <td>20</td>\n",
              "      <td>0</td>\n",
              "      <td>4.682836</td>\n",
              "      <td>7</td>\n",
              "      <td>0</td>\n",
              "      <td>0</td>\n",
              "      <td>0</td>\n",
              "      <td>0</td>\n",
              "      <td>1</td>\n",
              "      <td>0</td>\n",
              "      <td>0</td>\n",
              "      <td>0.0</td>\n",
              "      <td>0.0</td>\n",
              "      <td>0</td>\n",
              "      <td>0</td>\n",
              "      <td>0.0</td>\n",
              "      <td>0.0</td>\n",
              "      <td>0.0</td>\n",
              "      <td>0.0</td>\n",
              "      <td>545.0</td>\n",
              "      <td>16000.0</td>\n",
              "      <td>3151.157895</td>\n",
              "      <td>1</td>\n",
              "      <td>0</td>\n",
              "      <td>0</td>\n",
              "      <td>0</td>\n",
              "      <td>0</td>\n",
              "      <td>0</td>\n",
              "      <td>0</td>\n",
              "      <td>0</td>\n",
              "      <td>0.028633</td>\n",
              "      <td>0.028794</td>\n",
              "      <td>0.028575</td>\n",
              "      <td>0.028572</td>\n",
              "      <td>0.885427</td>\n",
              "      <td>0.513502</td>\n",
              "      <td>0.281003</td>\n",
              "      <td>0.074627</td>\n",
              "      <td>0.012127</td>\n",
              "      <td>0.860215</td>\n",
              "      <td>0.139785</td>\n",
              "      <td>0.411127</td>\n",
              "      <td>0.033333</td>\n",
              "      <td>1.0</td>\n",
              "      <td>-0.220192</td>\n",
              "      <td>-0.500</td>\n",
              "      <td>-0.050000</td>\n",
              "      <td>0.454545</td>\n",
              "      <td>0.136364</td>\n",
              "      <td>0.045455</td>\n",
              "      <td>0.136364</td>\n",
              "      <td>505</td>\n",
              "    </tr>\n",
              "  </tbody>\n",
              "</table>\n",
              "</div>"
            ],
            "text/plain": [
              "                                                 url  ...   shares\n",
              "0  http://mashable.com/2013/01/07/amazon-instant-...  ...      593\n",
              "1  http://mashable.com/2013/01/07/ap-samsung-spon...  ...      711\n",
              "2  http://mashable.com/2013/01/07/apple-40-billio...  ...     1500\n",
              "3  http://mashable.com/2013/01/07/astronaut-notre...  ...     1200\n",
              "4   http://mashable.com/2013/01/07/att-u-verse-apps/  ...      505\n",
              "\n",
              "[5 rows x 61 columns]"
            ]
          },
          "metadata": {
            "tags": []
          },
          "execution_count": 2
        }
      ]
    },
    {
      "cell_type": "markdown",
      "metadata": {
        "id": "rMoAWm5k8adu",
        "colab_type": "text"
      },
      "source": [
        "# Data Exploration\n",
        "\n",
        "\n",
        "---\n",
        "\n",
        "Descriptive statistics of all features “Predictors”<br>\n",
        "Features correlation (with any visualization, if possible)."
      ]
    },
    {
      "cell_type": "code",
      "metadata": {
        "id": "WV3xbR6RK6IE",
        "colab_type": "code",
        "outputId": "9857eafc-5221-4504-b61c-657e8c7e2505",
        "colab": {
          "base_uri": "https://localhost:8080/",
          "height": 1000
        }
      },
      "source": [
        "#check the information of the datasets\n",
        "data.info()"
      ],
      "execution_count": 3,
      "outputs": [
        {
          "output_type": "stream",
          "text": [
            "<class 'pandas.core.frame.DataFrame'>\n",
            "RangeIndex: 39644 entries, 0 to 39643\n",
            "Data columns (total 61 columns):\n",
            " #   Column                          Non-Null Count  Dtype  \n",
            "---  ------                          --------------  -----  \n",
            " 0   url                             39644 non-null  object \n",
            " 1    timedelta                      39644 non-null  int64  \n",
            " 2    n_tokens_title                 39644 non-null  int64  \n",
            " 3    n_tokens_content               39644 non-null  int64  \n",
            " 4    n_unique_tokens                39644 non-null  float64\n",
            " 5    n_non_stop_words               39644 non-null  float64\n",
            " 6    n_non_stop_unique_tokens       39644 non-null  float64\n",
            " 7    num_hrefs                      39644 non-null  int64  \n",
            " 8    num_self_hrefs                 39644 non-null  int64  \n",
            " 9    num_imgs                       39644 non-null  int64  \n",
            " 10   num_videos                     39644 non-null  int64  \n",
            " 11   average_token_length           39644 non-null  float64\n",
            " 12   num_keywords                   39644 non-null  int64  \n",
            " 13   data_channel_is_lifestyle      39644 non-null  int64  \n",
            " 14   data_channel_is_entertainment  39644 non-null  int64  \n",
            " 15   data_channel_is_bus            39644 non-null  int64  \n",
            " 16   data_channel_is_socmed         39644 non-null  int64  \n",
            " 17   data_channel_is_tech           39644 non-null  int64  \n",
            " 18   data_channel_is_world          39644 non-null  int64  \n",
            " 19   kw_min_min                     39644 non-null  int64  \n",
            " 20   kw_max_min                     39644 non-null  float64\n",
            " 21   kw_avg_min                     39644 non-null  float64\n",
            " 22   kw_min_max                     39644 non-null  int64  \n",
            " 23   kw_max_max                     39644 non-null  int64  \n",
            " 24   kw_avg_max                     39644 non-null  float64\n",
            " 25   kw_min_avg                     39644 non-null  float64\n",
            " 26   kw_max_avg                     39644 non-null  float64\n",
            " 27   kw_avg_avg                     39644 non-null  float64\n",
            " 28   self_reference_min_shares      39644 non-null  float64\n",
            " 29   self_reference_max_shares      39644 non-null  float64\n",
            " 30   self_reference_avg_sharess     39644 non-null  float64\n",
            " 31   weekday_is_monday              39644 non-null  int64  \n",
            " 32   weekday_is_tuesday             39644 non-null  int64  \n",
            " 33   weekday_is_wednesday           39644 non-null  int64  \n",
            " 34   weekday_is_thursday            39644 non-null  int64  \n",
            " 35   weekday_is_friday              39644 non-null  int64  \n",
            " 36   weekday_is_saturday            39644 non-null  int64  \n",
            " 37   weekday_is_sunday              39644 non-null  int64  \n",
            " 38   is_weekend                     39644 non-null  int64  \n",
            " 39   LDA_00                         39644 non-null  float64\n",
            " 40   LDA_01                         39644 non-null  float64\n",
            " 41   LDA_02                         39644 non-null  float64\n",
            " 42   LDA_03                         39644 non-null  float64\n",
            " 43   LDA_04                         39644 non-null  float64\n",
            " 44   global_subjectivity            39644 non-null  float64\n",
            " 45   global_sentiment_polarity      39644 non-null  float64\n",
            " 46   global_rate_positive_words     39644 non-null  float64\n",
            " 47   global_rate_negative_words     39644 non-null  float64\n",
            " 48   rate_positive_words            39644 non-null  float64\n",
            " 49   rate_negative_words            39644 non-null  float64\n",
            " 50   avg_positive_polarity          39644 non-null  float64\n",
            " 51   min_positive_polarity          39644 non-null  float64\n",
            " 52   max_positive_polarity          39644 non-null  float64\n",
            " 53   avg_negative_polarity          39644 non-null  float64\n",
            " 54   min_negative_polarity          39644 non-null  float64\n",
            " 55   max_negative_polarity          39644 non-null  float64\n",
            " 56   title_subjectivity             39644 non-null  float64\n",
            " 57   title_sentiment_polarity       39644 non-null  float64\n",
            " 58   abs_title_subjectivity         39644 non-null  float64\n",
            " 59   abs_title_sentiment_polarity   39644 non-null  float64\n",
            " 60   shares                         39644 non-null  int64  \n",
            "dtypes: float64(34), int64(26), object(1)\n",
            "memory usage: 18.5+ MB\n"
          ],
          "name": "stdout"
        }
      ]
    },
    {
      "cell_type": "code",
      "metadata": {
        "id": "xwyMPejbVf8N",
        "colab_type": "code",
        "outputId": "7ecc7400-98b9-4114-c06d-84bba9814e65",
        "colab": {
          "base_uri": "https://localhost:8080/",
          "height": 317
        }
      },
      "source": [
        "data.describe()"
      ],
      "execution_count": 4,
      "outputs": [
        {
          "output_type": "execute_result",
          "data": {
            "text/html": [
              "<div>\n",
              "<style scoped>\n",
              "    .dataframe tbody tr th:only-of-type {\n",
              "        vertical-align: middle;\n",
              "    }\n",
              "\n",
              "    .dataframe tbody tr th {\n",
              "        vertical-align: top;\n",
              "    }\n",
              "\n",
              "    .dataframe thead th {\n",
              "        text-align: right;\n",
              "    }\n",
              "</style>\n",
              "<table border=\"1\" class=\"dataframe\">\n",
              "  <thead>\n",
              "    <tr style=\"text-align: right;\">\n",
              "      <th></th>\n",
              "      <th>timedelta</th>\n",
              "      <th>n_tokens_title</th>\n",
              "      <th>n_tokens_content</th>\n",
              "      <th>n_unique_tokens</th>\n",
              "      <th>n_non_stop_words</th>\n",
              "      <th>n_non_stop_unique_tokens</th>\n",
              "      <th>num_hrefs</th>\n",
              "      <th>num_self_hrefs</th>\n",
              "      <th>num_imgs</th>\n",
              "      <th>num_videos</th>\n",
              "      <th>average_token_length</th>\n",
              "      <th>num_keywords</th>\n",
              "      <th>data_channel_is_lifestyle</th>\n",
              "      <th>data_channel_is_entertainment</th>\n",
              "      <th>data_channel_is_bus</th>\n",
              "      <th>data_channel_is_socmed</th>\n",
              "      <th>data_channel_is_tech</th>\n",
              "      <th>data_channel_is_world</th>\n",
              "      <th>kw_min_min</th>\n",
              "      <th>kw_max_min</th>\n",
              "      <th>kw_avg_min</th>\n",
              "      <th>kw_min_max</th>\n",
              "      <th>kw_max_max</th>\n",
              "      <th>kw_avg_max</th>\n",
              "      <th>kw_min_avg</th>\n",
              "      <th>kw_max_avg</th>\n",
              "      <th>kw_avg_avg</th>\n",
              "      <th>self_reference_min_shares</th>\n",
              "      <th>self_reference_max_shares</th>\n",
              "      <th>self_reference_avg_sharess</th>\n",
              "      <th>weekday_is_monday</th>\n",
              "      <th>weekday_is_tuesday</th>\n",
              "      <th>weekday_is_wednesday</th>\n",
              "      <th>weekday_is_thursday</th>\n",
              "      <th>weekday_is_friday</th>\n",
              "      <th>weekday_is_saturday</th>\n",
              "      <th>weekday_is_sunday</th>\n",
              "      <th>is_weekend</th>\n",
              "      <th>LDA_00</th>\n",
              "      <th>LDA_01</th>\n",
              "      <th>LDA_02</th>\n",
              "      <th>LDA_03</th>\n",
              "      <th>LDA_04</th>\n",
              "      <th>global_subjectivity</th>\n",
              "      <th>global_sentiment_polarity</th>\n",
              "      <th>global_rate_positive_words</th>\n",
              "      <th>global_rate_negative_words</th>\n",
              "      <th>rate_positive_words</th>\n",
              "      <th>rate_negative_words</th>\n",
              "      <th>avg_positive_polarity</th>\n",
              "      <th>min_positive_polarity</th>\n",
              "      <th>max_positive_polarity</th>\n",
              "      <th>avg_negative_polarity</th>\n",
              "      <th>min_negative_polarity</th>\n",
              "      <th>max_negative_polarity</th>\n",
              "      <th>title_subjectivity</th>\n",
              "      <th>title_sentiment_polarity</th>\n",
              "      <th>abs_title_subjectivity</th>\n",
              "      <th>abs_title_sentiment_polarity</th>\n",
              "      <th>shares</th>\n",
              "    </tr>\n",
              "  </thead>\n",
              "  <tbody>\n",
              "    <tr>\n",
              "      <th>count</th>\n",
              "      <td>39644.000000</td>\n",
              "      <td>39644.000000</td>\n",
              "      <td>39644.000000</td>\n",
              "      <td>39644.000000</td>\n",
              "      <td>39644.000000</td>\n",
              "      <td>39644.000000</td>\n",
              "      <td>39644.000000</td>\n",
              "      <td>39644.000000</td>\n",
              "      <td>39644.000000</td>\n",
              "      <td>39644.000000</td>\n",
              "      <td>39644.000000</td>\n",
              "      <td>39644.000000</td>\n",
              "      <td>39644.000000</td>\n",
              "      <td>39644.000000</td>\n",
              "      <td>39644.000000</td>\n",
              "      <td>39644.000000</td>\n",
              "      <td>39644.000000</td>\n",
              "      <td>39644.000000</td>\n",
              "      <td>39644.000000</td>\n",
              "      <td>39644.000000</td>\n",
              "      <td>39644.000000</td>\n",
              "      <td>39644.000000</td>\n",
              "      <td>39644.000000</td>\n",
              "      <td>39644.000000</td>\n",
              "      <td>39644.000000</td>\n",
              "      <td>39644.000000</td>\n",
              "      <td>39644.000000</td>\n",
              "      <td>39644.000000</td>\n",
              "      <td>39644.000000</td>\n",
              "      <td>39644.000000</td>\n",
              "      <td>39644.000000</td>\n",
              "      <td>39644.000000</td>\n",
              "      <td>39644.000000</td>\n",
              "      <td>39644.000000</td>\n",
              "      <td>39644.000000</td>\n",
              "      <td>39644.000000</td>\n",
              "      <td>39644.000000</td>\n",
              "      <td>39644.000000</td>\n",
              "      <td>39644.000000</td>\n",
              "      <td>39644.000000</td>\n",
              "      <td>39644.000000</td>\n",
              "      <td>39644.000000</td>\n",
              "      <td>39644.000000</td>\n",
              "      <td>39644.000000</td>\n",
              "      <td>39644.000000</td>\n",
              "      <td>39644.000000</td>\n",
              "      <td>39644.000000</td>\n",
              "      <td>39644.000000</td>\n",
              "      <td>39644.000000</td>\n",
              "      <td>39644.000000</td>\n",
              "      <td>39644.000000</td>\n",
              "      <td>39644.000000</td>\n",
              "      <td>39644.000000</td>\n",
              "      <td>39644.000000</td>\n",
              "      <td>39644.000000</td>\n",
              "      <td>39644.000000</td>\n",
              "      <td>39644.000000</td>\n",
              "      <td>39644.000000</td>\n",
              "      <td>39644.000000</td>\n",
              "      <td>39644.000000</td>\n",
              "    </tr>\n",
              "    <tr>\n",
              "      <th>mean</th>\n",
              "      <td>354.530471</td>\n",
              "      <td>10.398749</td>\n",
              "      <td>546.514731</td>\n",
              "      <td>0.548216</td>\n",
              "      <td>0.996469</td>\n",
              "      <td>0.689175</td>\n",
              "      <td>10.883690</td>\n",
              "      <td>3.293638</td>\n",
              "      <td>4.544143</td>\n",
              "      <td>1.249874</td>\n",
              "      <td>4.548239</td>\n",
              "      <td>7.223767</td>\n",
              "      <td>0.052946</td>\n",
              "      <td>0.178009</td>\n",
              "      <td>0.157855</td>\n",
              "      <td>0.058597</td>\n",
              "      <td>0.185299</td>\n",
              "      <td>0.212567</td>\n",
              "      <td>26.106801</td>\n",
              "      <td>1153.951682</td>\n",
              "      <td>312.366967</td>\n",
              "      <td>13612.354102</td>\n",
              "      <td>752324.066694</td>\n",
              "      <td>259281.938083</td>\n",
              "      <td>1117.146610</td>\n",
              "      <td>5657.211151</td>\n",
              "      <td>3135.858639</td>\n",
              "      <td>3998.755396</td>\n",
              "      <td>10329.212662</td>\n",
              "      <td>6401.697580</td>\n",
              "      <td>0.168020</td>\n",
              "      <td>0.186409</td>\n",
              "      <td>0.187544</td>\n",
              "      <td>0.183306</td>\n",
              "      <td>0.143805</td>\n",
              "      <td>0.061876</td>\n",
              "      <td>0.069039</td>\n",
              "      <td>0.130915</td>\n",
              "      <td>0.184599</td>\n",
              "      <td>0.141256</td>\n",
              "      <td>0.216321</td>\n",
              "      <td>0.223770</td>\n",
              "      <td>0.234029</td>\n",
              "      <td>0.443370</td>\n",
              "      <td>0.119309</td>\n",
              "      <td>0.039625</td>\n",
              "      <td>0.016612</td>\n",
              "      <td>0.682150</td>\n",
              "      <td>0.287934</td>\n",
              "      <td>0.353825</td>\n",
              "      <td>0.095446</td>\n",
              "      <td>0.756728</td>\n",
              "      <td>-0.259524</td>\n",
              "      <td>-0.521944</td>\n",
              "      <td>-0.107500</td>\n",
              "      <td>0.282353</td>\n",
              "      <td>0.071425</td>\n",
              "      <td>0.341843</td>\n",
              "      <td>0.156064</td>\n",
              "      <td>3395.380184</td>\n",
              "    </tr>\n",
              "    <tr>\n",
              "      <th>std</th>\n",
              "      <td>214.163767</td>\n",
              "      <td>2.114037</td>\n",
              "      <td>471.107508</td>\n",
              "      <td>3.520708</td>\n",
              "      <td>5.231231</td>\n",
              "      <td>3.264816</td>\n",
              "      <td>11.332017</td>\n",
              "      <td>3.855141</td>\n",
              "      <td>8.309434</td>\n",
              "      <td>4.107855</td>\n",
              "      <td>0.844406</td>\n",
              "      <td>1.909130</td>\n",
              "      <td>0.223929</td>\n",
              "      <td>0.382525</td>\n",
              "      <td>0.364610</td>\n",
              "      <td>0.234871</td>\n",
              "      <td>0.388545</td>\n",
              "      <td>0.409129</td>\n",
              "      <td>69.633215</td>\n",
              "      <td>3857.990877</td>\n",
              "      <td>620.783887</td>\n",
              "      <td>57986.029357</td>\n",
              "      <td>214502.129573</td>\n",
              "      <td>135102.247285</td>\n",
              "      <td>1137.456951</td>\n",
              "      <td>6098.871957</td>\n",
              "      <td>1318.150397</td>\n",
              "      <td>19738.670516</td>\n",
              "      <td>41027.576613</td>\n",
              "      <td>24211.332231</td>\n",
              "      <td>0.373889</td>\n",
              "      <td>0.389441</td>\n",
              "      <td>0.390353</td>\n",
              "      <td>0.386922</td>\n",
              "      <td>0.350896</td>\n",
              "      <td>0.240933</td>\n",
              "      <td>0.253524</td>\n",
              "      <td>0.337312</td>\n",
              "      <td>0.262975</td>\n",
              "      <td>0.219707</td>\n",
              "      <td>0.282145</td>\n",
              "      <td>0.295191</td>\n",
              "      <td>0.289183</td>\n",
              "      <td>0.116685</td>\n",
              "      <td>0.096931</td>\n",
              "      <td>0.017429</td>\n",
              "      <td>0.010828</td>\n",
              "      <td>0.190206</td>\n",
              "      <td>0.156156</td>\n",
              "      <td>0.104542</td>\n",
              "      <td>0.071315</td>\n",
              "      <td>0.247786</td>\n",
              "      <td>0.127726</td>\n",
              "      <td>0.290290</td>\n",
              "      <td>0.095373</td>\n",
              "      <td>0.324247</td>\n",
              "      <td>0.265450</td>\n",
              "      <td>0.188791</td>\n",
              "      <td>0.226294</td>\n",
              "      <td>11626.950749</td>\n",
              "    </tr>\n",
              "    <tr>\n",
              "      <th>min</th>\n",
              "      <td>8.000000</td>\n",
              "      <td>2.000000</td>\n",
              "      <td>0.000000</td>\n",
              "      <td>0.000000</td>\n",
              "      <td>0.000000</td>\n",
              "      <td>0.000000</td>\n",
              "      <td>0.000000</td>\n",
              "      <td>0.000000</td>\n",
              "      <td>0.000000</td>\n",
              "      <td>0.000000</td>\n",
              "      <td>0.000000</td>\n",
              "      <td>1.000000</td>\n",
              "      <td>0.000000</td>\n",
              "      <td>0.000000</td>\n",
              "      <td>0.000000</td>\n",
              "      <td>0.000000</td>\n",
              "      <td>0.000000</td>\n",
              "      <td>0.000000</td>\n",
              "      <td>-1.000000</td>\n",
              "      <td>0.000000</td>\n",
              "      <td>-1.000000</td>\n",
              "      <td>0.000000</td>\n",
              "      <td>0.000000</td>\n",
              "      <td>0.000000</td>\n",
              "      <td>-1.000000</td>\n",
              "      <td>0.000000</td>\n",
              "      <td>0.000000</td>\n",
              "      <td>0.000000</td>\n",
              "      <td>0.000000</td>\n",
              "      <td>0.000000</td>\n",
              "      <td>0.000000</td>\n",
              "      <td>0.000000</td>\n",
              "      <td>0.000000</td>\n",
              "      <td>0.000000</td>\n",
              "      <td>0.000000</td>\n",
              "      <td>0.000000</td>\n",
              "      <td>0.000000</td>\n",
              "      <td>0.000000</td>\n",
              "      <td>0.000000</td>\n",
              "      <td>0.000000</td>\n",
              "      <td>0.000000</td>\n",
              "      <td>0.000000</td>\n",
              "      <td>0.000000</td>\n",
              "      <td>0.000000</td>\n",
              "      <td>-0.393750</td>\n",
              "      <td>0.000000</td>\n",
              "      <td>0.000000</td>\n",
              "      <td>0.000000</td>\n",
              "      <td>0.000000</td>\n",
              "      <td>0.000000</td>\n",
              "      <td>0.000000</td>\n",
              "      <td>0.000000</td>\n",
              "      <td>-1.000000</td>\n",
              "      <td>-1.000000</td>\n",
              "      <td>-1.000000</td>\n",
              "      <td>0.000000</td>\n",
              "      <td>-1.000000</td>\n",
              "      <td>0.000000</td>\n",
              "      <td>0.000000</td>\n",
              "      <td>1.000000</td>\n",
              "    </tr>\n",
              "    <tr>\n",
              "      <th>25%</th>\n",
              "      <td>164.000000</td>\n",
              "      <td>9.000000</td>\n",
              "      <td>246.000000</td>\n",
              "      <td>0.470870</td>\n",
              "      <td>1.000000</td>\n",
              "      <td>0.625739</td>\n",
              "      <td>4.000000</td>\n",
              "      <td>1.000000</td>\n",
              "      <td>1.000000</td>\n",
              "      <td>0.000000</td>\n",
              "      <td>4.478404</td>\n",
              "      <td>6.000000</td>\n",
              "      <td>0.000000</td>\n",
              "      <td>0.000000</td>\n",
              "      <td>0.000000</td>\n",
              "      <td>0.000000</td>\n",
              "      <td>0.000000</td>\n",
              "      <td>0.000000</td>\n",
              "      <td>-1.000000</td>\n",
              "      <td>445.000000</td>\n",
              "      <td>141.750000</td>\n",
              "      <td>0.000000</td>\n",
              "      <td>843300.000000</td>\n",
              "      <td>172846.875000</td>\n",
              "      <td>0.000000</td>\n",
              "      <td>3562.101631</td>\n",
              "      <td>2382.448565</td>\n",
              "      <td>639.000000</td>\n",
              "      <td>1100.000000</td>\n",
              "      <td>981.187500</td>\n",
              "      <td>0.000000</td>\n",
              "      <td>0.000000</td>\n",
              "      <td>0.000000</td>\n",
              "      <td>0.000000</td>\n",
              "      <td>0.000000</td>\n",
              "      <td>0.000000</td>\n",
              "      <td>0.000000</td>\n",
              "      <td>0.000000</td>\n",
              "      <td>0.025051</td>\n",
              "      <td>0.025012</td>\n",
              "      <td>0.028571</td>\n",
              "      <td>0.028571</td>\n",
              "      <td>0.028574</td>\n",
              "      <td>0.396167</td>\n",
              "      <td>0.057757</td>\n",
              "      <td>0.028384</td>\n",
              "      <td>0.009615</td>\n",
              "      <td>0.600000</td>\n",
              "      <td>0.185185</td>\n",
              "      <td>0.306244</td>\n",
              "      <td>0.050000</td>\n",
              "      <td>0.600000</td>\n",
              "      <td>-0.328383</td>\n",
              "      <td>-0.700000</td>\n",
              "      <td>-0.125000</td>\n",
              "      <td>0.000000</td>\n",
              "      <td>0.000000</td>\n",
              "      <td>0.166667</td>\n",
              "      <td>0.000000</td>\n",
              "      <td>946.000000</td>\n",
              "    </tr>\n",
              "    <tr>\n",
              "      <th>50%</th>\n",
              "      <td>339.000000</td>\n",
              "      <td>10.000000</td>\n",
              "      <td>409.000000</td>\n",
              "      <td>0.539226</td>\n",
              "      <td>1.000000</td>\n",
              "      <td>0.690476</td>\n",
              "      <td>8.000000</td>\n",
              "      <td>3.000000</td>\n",
              "      <td>1.000000</td>\n",
              "      <td>0.000000</td>\n",
              "      <td>4.664082</td>\n",
              "      <td>7.000000</td>\n",
              "      <td>0.000000</td>\n",
              "      <td>0.000000</td>\n",
              "      <td>0.000000</td>\n",
              "      <td>0.000000</td>\n",
              "      <td>0.000000</td>\n",
              "      <td>0.000000</td>\n",
              "      <td>-1.000000</td>\n",
              "      <td>660.000000</td>\n",
              "      <td>235.500000</td>\n",
              "      <td>1400.000000</td>\n",
              "      <td>843300.000000</td>\n",
              "      <td>244572.222250</td>\n",
              "      <td>1023.635611</td>\n",
              "      <td>4355.688836</td>\n",
              "      <td>2870.074878</td>\n",
              "      <td>1200.000000</td>\n",
              "      <td>2800.000000</td>\n",
              "      <td>2200.000000</td>\n",
              "      <td>0.000000</td>\n",
              "      <td>0.000000</td>\n",
              "      <td>0.000000</td>\n",
              "      <td>0.000000</td>\n",
              "      <td>0.000000</td>\n",
              "      <td>0.000000</td>\n",
              "      <td>0.000000</td>\n",
              "      <td>0.000000</td>\n",
              "      <td>0.033387</td>\n",
              "      <td>0.033345</td>\n",
              "      <td>0.040004</td>\n",
              "      <td>0.040001</td>\n",
              "      <td>0.040727</td>\n",
              "      <td>0.453457</td>\n",
              "      <td>0.119117</td>\n",
              "      <td>0.039023</td>\n",
              "      <td>0.015337</td>\n",
              "      <td>0.710526</td>\n",
              "      <td>0.280000</td>\n",
              "      <td>0.358755</td>\n",
              "      <td>0.100000</td>\n",
              "      <td>0.800000</td>\n",
              "      <td>-0.253333</td>\n",
              "      <td>-0.500000</td>\n",
              "      <td>-0.100000</td>\n",
              "      <td>0.150000</td>\n",
              "      <td>0.000000</td>\n",
              "      <td>0.500000</td>\n",
              "      <td>0.000000</td>\n",
              "      <td>1400.000000</td>\n",
              "    </tr>\n",
              "    <tr>\n",
              "      <th>75%</th>\n",
              "      <td>542.000000</td>\n",
              "      <td>12.000000</td>\n",
              "      <td>716.000000</td>\n",
              "      <td>0.608696</td>\n",
              "      <td>1.000000</td>\n",
              "      <td>0.754630</td>\n",
              "      <td>14.000000</td>\n",
              "      <td>4.000000</td>\n",
              "      <td>4.000000</td>\n",
              "      <td>1.000000</td>\n",
              "      <td>4.854839</td>\n",
              "      <td>9.000000</td>\n",
              "      <td>0.000000</td>\n",
              "      <td>0.000000</td>\n",
              "      <td>0.000000</td>\n",
              "      <td>0.000000</td>\n",
              "      <td>0.000000</td>\n",
              "      <td>0.000000</td>\n",
              "      <td>4.000000</td>\n",
              "      <td>1000.000000</td>\n",
              "      <td>357.000000</td>\n",
              "      <td>7900.000000</td>\n",
              "      <td>843300.000000</td>\n",
              "      <td>330980.000000</td>\n",
              "      <td>2056.781031</td>\n",
              "      <td>6019.953968</td>\n",
              "      <td>3600.229564</td>\n",
              "      <td>2600.000000</td>\n",
              "      <td>8000.000000</td>\n",
              "      <td>5200.000000</td>\n",
              "      <td>0.000000</td>\n",
              "      <td>0.000000</td>\n",
              "      <td>0.000000</td>\n",
              "      <td>0.000000</td>\n",
              "      <td>0.000000</td>\n",
              "      <td>0.000000</td>\n",
              "      <td>0.000000</td>\n",
              "      <td>0.000000</td>\n",
              "      <td>0.240958</td>\n",
              "      <td>0.150831</td>\n",
              "      <td>0.334218</td>\n",
              "      <td>0.375763</td>\n",
              "      <td>0.399986</td>\n",
              "      <td>0.508333</td>\n",
              "      <td>0.177832</td>\n",
              "      <td>0.050279</td>\n",
              "      <td>0.021739</td>\n",
              "      <td>0.800000</td>\n",
              "      <td>0.384615</td>\n",
              "      <td>0.411428</td>\n",
              "      <td>0.100000</td>\n",
              "      <td>1.000000</td>\n",
              "      <td>-0.186905</td>\n",
              "      <td>-0.300000</td>\n",
              "      <td>-0.050000</td>\n",
              "      <td>0.500000</td>\n",
              "      <td>0.150000</td>\n",
              "      <td>0.500000</td>\n",
              "      <td>0.250000</td>\n",
              "      <td>2800.000000</td>\n",
              "    </tr>\n",
              "    <tr>\n",
              "      <th>max</th>\n",
              "      <td>731.000000</td>\n",
              "      <td>23.000000</td>\n",
              "      <td>8474.000000</td>\n",
              "      <td>701.000000</td>\n",
              "      <td>1042.000000</td>\n",
              "      <td>650.000000</td>\n",
              "      <td>304.000000</td>\n",
              "      <td>116.000000</td>\n",
              "      <td>128.000000</td>\n",
              "      <td>91.000000</td>\n",
              "      <td>8.041534</td>\n",
              "      <td>10.000000</td>\n",
              "      <td>1.000000</td>\n",
              "      <td>1.000000</td>\n",
              "      <td>1.000000</td>\n",
              "      <td>1.000000</td>\n",
              "      <td>1.000000</td>\n",
              "      <td>1.000000</td>\n",
              "      <td>377.000000</td>\n",
              "      <td>298400.000000</td>\n",
              "      <td>42827.857140</td>\n",
              "      <td>843300.000000</td>\n",
              "      <td>843300.000000</td>\n",
              "      <td>843300.000000</td>\n",
              "      <td>3613.039820</td>\n",
              "      <td>298400.000000</td>\n",
              "      <td>43567.659950</td>\n",
              "      <td>843300.000000</td>\n",
              "      <td>843300.000000</td>\n",
              "      <td>843300.000000</td>\n",
              "      <td>1.000000</td>\n",
              "      <td>1.000000</td>\n",
              "      <td>1.000000</td>\n",
              "      <td>1.000000</td>\n",
              "      <td>1.000000</td>\n",
              "      <td>1.000000</td>\n",
              "      <td>1.000000</td>\n",
              "      <td>1.000000</td>\n",
              "      <td>0.926994</td>\n",
              "      <td>0.925947</td>\n",
              "      <td>0.919999</td>\n",
              "      <td>0.926534</td>\n",
              "      <td>0.927191</td>\n",
              "      <td>1.000000</td>\n",
              "      <td>0.727841</td>\n",
              "      <td>0.155488</td>\n",
              "      <td>0.184932</td>\n",
              "      <td>1.000000</td>\n",
              "      <td>1.000000</td>\n",
              "      <td>1.000000</td>\n",
              "      <td>1.000000</td>\n",
              "      <td>1.000000</td>\n",
              "      <td>0.000000</td>\n",
              "      <td>0.000000</td>\n",
              "      <td>0.000000</td>\n",
              "      <td>1.000000</td>\n",
              "      <td>1.000000</td>\n",
              "      <td>0.500000</td>\n",
              "      <td>1.000000</td>\n",
              "      <td>843300.000000</td>\n",
              "    </tr>\n",
              "  </tbody>\n",
              "</table>\n",
              "</div>"
            ],
            "text/plain": [
              "          timedelta  ...         shares\n",
              "count  39644.000000  ...   39644.000000\n",
              "mean     354.530471  ...    3395.380184\n",
              "std      214.163767  ...   11626.950749\n",
              "min        8.000000  ...       1.000000\n",
              "25%      164.000000  ...     946.000000\n",
              "50%      339.000000  ...    1400.000000\n",
              "75%      542.000000  ...    2800.000000\n",
              "max      731.000000  ...  843300.000000\n",
              "\n",
              "[8 rows x 60 columns]"
            ]
          },
          "metadata": {
            "tags": []
          },
          "execution_count": 4
        }
      ]
    },
    {
      "cell_type": "code",
      "metadata": {
        "id": "q4lRey4sLpAQ",
        "colab_type": "code",
        "outputId": "ee5e68a4-beb8-4e7c-d2f7-7427a210cfb2",
        "colab": {
          "base_uri": "https://localhost:8080/",
          "height": 1000
        }
      },
      "source": [
        "# check histogram of the datasets\n",
        "data.hist(bins = 20, figsize = (18, 18))\n",
        "plt.show"
      ],
      "execution_count": 5,
      "outputs": [
        {
          "output_type": "execute_result",
          "data": {
            "text/plain": [
              "<function matplotlib.pyplot.show>"
            ]
          },
          "metadata": {
            "tags": []
          },
          "execution_count": 5
        },
        {
          "output_type": "display_data",
          "data": {
            "image/png": "[encoded data removed]",
            "text/plain": [
              "<Figure size 1296x1296 with 64 Axes>"
            ]
          },
          "metadata": {
            "tags": [],
            "needs_background": "light"
          }
        }
      ]
    },
    {
      "cell_type": "code",
      "metadata": {
        "id": "T5jZm7GuNlE9",
        "colab_type": "code",
        "outputId": "f9298f2e-01d1-4b25-81f4-1f598a85bb13",
        "colab": {
          "base_uri": "https://localhost:8080/",
          "height": 606
        }
      },
      "source": [
        "fig_size = plt.rcParams[\"figure.figsize\"]\n",
        "fig_size[0] = 15\n",
        "fig_size[1] = 10\n",
        "\n",
        "shares = []\n",
        "cols = [' weekday_is_monday', ' weekday_is_tuesday', ' weekday_is_wednesday',' weekday_is_thursday', ' weekday_is_friday', ' weekday_is_saturday',\n",
        "       ' weekday_is_sunday']\n",
        "for x in cols:\n",
        "    shares.append(data[data[x] == 1][' shares'].median())\n",
        "\n",
        "days = sns.barplot(x = cols, y = shares)\n",
        "days.set(xlabel = 'week', ylabel = 'shares')\n",
        "plt.show()"
      ],
      "execution_count": 13,
      "outputs": [
        {
          "output_type": "display_data",
          "data": {
            "image/png": "[encoded data removed]",
            "text/plain": [
              "<Figure size 1080x720 with 1 Axes>"
            ]
          },
          "metadata": {
            "tags": [],
            "needs_background": "light"
          }
        }
      ]
    },
    {
      "cell_type": "code",
      "metadata": {
        "id": "t3SJIoVJPWke",
        "colab_type": "code",
        "outputId": "dfd27274-6842-452d-e902-7375ace610cc",
        "colab": {
          "base_uri": "https://localhost:8080/",
          "height": 296
        }
      },
      "source": [
        "channel = []\n",
        "cols = [' data_channel_is_lifestyle',\n",
        "       ' data_channel_is_entertainment', ' data_channel_is_bus',\n",
        "       ' data_channel_is_socmed', ' data_channel_is_tech',\n",
        "       ' data_channel_is_world']\n",
        "for d in cols:\n",
        "    channel.append(data[data[d]==1][' shares'].median())\n",
        "\n",
        "cchanel = sns.barplot(x = cols, y = channel)\n",
        "cchanel.set(xlabel = 'channel', ylabel = 'shares')\n",
        "plt.show()"
      ],
      "execution_count": 0,
      "outputs": [
        {
          "output_type": "display_data",
          "data": {
            "image/png": "[encoded data removed]",
            "text/plain": [
              "<Figure size 1152x360 with 1 Axes>"
            ]
          },
          "metadata": {
            "tags": [],
            "needs_background": "light"
          }
        }
      ]
    },
    {
      "cell_type": "code",
      "metadata": {
        "id": "Co-_6zj_QF3h",
        "colab_type": "code",
        "outputId": "645c9605-face-455e-bb3c-c5c08aad0b8b",
        "colab": {
          "base_uri": "https://localhost:8080/",
          "height": 616
        }
      },
      "source": [
        "sns.distplot(data[' shares'])\n",
        "plt.show()"
      ],
      "execution_count": 14,
      "outputs": [
        {
          "output_type": "display_data",
          "data": {
            "image/png": "[encoded data removed]",
            "text/plain": [
              "<Figure size 1080x720 with 1 Axes>"
            ]
          },
          "metadata": {
            "tags": [],
            "needs_background": "light"
          }
        }
      ]
    },
    {
      "cell_type": "code",
      "metadata": {
        "id": "LOo0mBiKWL_v",
        "colab_type": "code",
        "outputId": "32387585-7664-4c6d-dc93-9cf90c392e4e",
        "colab": {
          "base_uri": "https://localhost:8080/",
          "height": 35
        }
      },
      "source": [
        "ddata = data[data[' shares']<26647]\n",
        "ddata.shape"
      ],
      "execution_count": 15,
      "outputs": [
        {
          "output_type": "execute_result",
          "data": {
            "text/plain": [
              "(39130, 61)"
            ]
          },
          "metadata": {
            "tags": []
          },
          "execution_count": 15
        }
      ]
    },
    {
      "cell_type": "markdown",
      "metadata": {
        "id": "gWDAeawN9JGY",
        "colab_type": "text"
      },
      "source": [
        "# Building a Regression Model\n",
        "\n",
        "\n",
        "---\n",
        "\n"
      ]
    },
    {
      "cell_type": "code",
      "metadata": {
        "id": "zxhMdOZkWBsV",
        "colab_type": "code",
        "colab": {}
      },
      "source": [
        "train_set, test_set = train_test_split(ddata, test_size=0.20, random_state=42)\n",
        "\n",
        "X_train_set = train_set.drop(['url',' shares'], axis=1) #Dropping both 'shares', the predicted variable and 'url', a text variable\n",
        "y_train_set = train_set[' shares']\n",
        "\n",
        "X_test_set = test_set.drop(['url',' shares'], axis=1)\n",
        "y_test_set = test_set[' shares']"
      ],
      "execution_count": 0,
      "outputs": []
    },
    {
      "cell_type": "markdown",
      "metadata": {
        "id": "V_GJ9e6g9Z8q",
        "colab_type": "text"
      },
      "source": [
        "# Model1: Liner regression model"
      ]
    },
    {
      "cell_type": "markdown",
      "metadata": {
        "id": "vrra3BQJ-T0J",
        "colab_type": "text"
      },
      "source": [
        "**Creating a liner regression model**"
      ]
    },
    {
      "cell_type": "code",
      "metadata": {
        "id": "x04nXQYLQLrO",
        "colab_type": "code",
        "outputId": "c168437e-f62b-4cf7-eae6-dcd16318006b",
        "colab": {
          "base_uri": "https://localhost:8080/",
          "height": 35
        }
      },
      "source": [
        "#liner regression model\n",
        "lin_reg = LinearRegression()\n",
        "lin_reg.fit(X_train_set, y_train_set)"
      ],
      "execution_count": 21,
      "outputs": [
        {
          "output_type": "execute_result",
          "data": {
            "text/plain": [
              "LinearRegression(copy_X=True, fit_intercept=True, n_jobs=None, normalize=False)"
            ]
          },
          "metadata": {
            "tags": []
          },
          "execution_count": 21
        }
      ]
    },
    {
      "cell_type": "code",
      "metadata": {
        "id": "pWYqHopjYQL8",
        "colab_type": "code",
        "outputId": "1a4b67a8-1bf6-4691-b516-030df2d31b8b",
        "colab": {
          "base_uri": "https://localhost:8080/",
          "height": 1000
        }
      },
      "source": [
        "some_X_data = X_train_set.iloc[:500]\n",
        "some_y_data = y_train_set.iloc[:500]\n",
        "print(\"Predicted shares:\", lin_reg.predict(some_X_data))\n",
        "print(\"Actual shares:\", list(some_y_data))"
      ],
      "execution_count": 22,
      "outputs": [
        {
          "output_type": "stream",
          "text": [
            "Predicted shares: [2242.96868924 1815.35622978 2756.11209231 1944.87257543 1767.35032252\n",
            " 1681.49060818 2775.27490019 1649.50855844 2978.78656721 2355.12535719\n",
            " 1208.66629749 4244.68546605 2480.08965958 2059.81841627 4360.7498679\n",
            " 3270.56661269 1920.67727789 1895.11160546 4741.1559679  3461.73332489\n",
            " 2782.02155463 1908.40411188 2027.34664694 1278.61064334 1272.3662652\n",
            " 3283.90046028 2201.07607363 2514.34794182 4354.2364598  2513.73871365\n",
            " 1798.72915987 1538.76432934 3786.17007473 2973.31173302 3612.31807773\n",
            " 1787.91646552 2903.31676413 2111.40498344 3616.90879152 3618.39894254\n",
            " 2654.01445181 3109.94464337 2142.32393427 2797.17580368 2348.1419395\n",
            " 2030.82826163 2332.97804093 3324.97959088 2597.90484461 1558.96197557\n",
            " 2964.15849257 1966.85691473 4036.41185098 3249.23730804 2455.08044502\n",
            " 4090.96656974 2299.54563179 2725.65340747 2645.26779122 2007.58278506\n",
            " 2107.28449476 2462.95621868 3745.87900014 1991.85287465 2092.16289588\n",
            " 2188.74767783 2236.29790462 2878.22354045 3121.89704841 4248.13286572\n",
            " 5302.56450885 2645.62835776 2211.0546367  1468.58756222 3340.80378663\n",
            " 1539.78195987 1951.32155103 3919.11689375 2498.31601289  931.6553081\n",
            " 2324.83927896 3994.39666081 3495.79685307 2787.18284187 1590.15838735\n",
            " 2646.14880011 2844.94338551 1200.10917412 2286.27053786 2152.7571985\n",
            " 2593.62895972 4430.61259891 2523.72628944 3288.59377857 1883.61421688\n",
            " 2417.61460619 2330.49649634 4486.78148027 3533.67875874 1962.95808179\n",
            "  523.83249898 3798.39968684 2574.24585135 2990.57727549 2854.99846931\n",
            " 2126.96588524 2999.06814452 3825.05382725 3063.62003375 2836.82046269\n",
            " 2848.46336558 1275.52657533 1440.07622712 5528.37899483 2939.97833913\n",
            " 1858.53101401 1054.76088923 1065.60852268 3845.95048889 3391.63245673\n",
            " 3335.33742304 2378.19715244 3019.35821941 2142.40541425 3445.73300936\n",
            " 3521.84508597 2002.09011625 3147.44126089 2367.53788125 1260.76842287\n",
            " 2618.2447246  3979.09225105 3592.51037634 3152.89425878 2179.78169261\n",
            " 2664.46609717 2804.82250508 3160.63616286 2374.56261489 1609.04082766\n",
            " 2788.09282137 2582.95458215 3264.96343653 2887.03057653 1178.92610264\n",
            " 3923.46059012 3720.45789497 1425.9791212  2325.37358572 3108.81423643\n",
            " 4828.7554914  2199.04748182 1881.44404251 1818.79000542 2578.23985608\n",
            " 2788.96926839 3514.69002513 2359.07538935 1900.12631717 2437.09664091\n",
            " 2951.05538488 2579.4950543  2750.26401032 2347.39888471 2380.28192987\n",
            " 2076.53792942 2121.69163826 2718.0141771  1571.86942701 2158.05544381\n",
            "  808.76578911 1699.0528232  1919.00198408 1590.88321755 2040.3353001\n",
            " 2575.11690114 2410.33980724 2901.00644658 3069.18096411 1784.38976137\n",
            " 2108.65635374 1959.80282999 2458.89209089 2557.47668685 2384.93198585\n",
            " 1739.08303324 2241.57223782 3888.33704795 1544.50372141 2901.77166438\n",
            " 2971.06861547 2744.62200219 2980.22980613 1944.53362757 1429.02295795\n",
            " 1358.58892326 3043.61754893 2514.91266595 3020.77961527 2874.98262652\n",
            " 3661.6606612  3220.68018829 2600.32863013 1533.84421563 3392.56584496\n",
            " 5911.85169013 2159.64617064 1313.94592144 2791.95060832 3042.31928604\n",
            " 1984.23220162 3198.35375109 1025.76140446 1575.22294892 3573.36632072\n",
            " 1096.15667405 4667.22109044 1912.42604285 1007.3556544  1517.67006064\n",
            " 3618.98111806 2434.10264279 1940.19612717 4830.19037488 1633.52143649\n",
            " 2567.87032184 3203.12215031 1821.94127691 2201.47852816 2624.98366003\n",
            " 1900.70589604 2285.51539705 2193.58372902 1806.66042823 1279.20051185\n",
            " 2561.87665843 1935.91661248 1495.14015785 2039.55006808 2330.5539589\n",
            " 2971.11025317 1757.65502932 1759.8402979  2425.8394835  2955.32011358\n",
            " 1980.62003452 3681.10744032 2153.99260218 2331.12294491 2288.24524704\n",
            " 2868.44713216 3155.39088818 1959.81817839 3176.1294742  3215.94788836\n",
            " 2225.16243225 2621.30954729 1987.73106195 3578.3482943  2665.33286735\n",
            " 2387.1643548  1737.21544257 2558.22632408 3502.40038331 2139.06070633\n",
            " 3196.21277407 1908.22905909 1441.5617738  3658.34860533 3275.34846819\n",
            " 3078.06281343 2822.21817038 2618.85283881 6106.16238152 3003.65981722\n",
            " 2048.14058127 2061.56345338 2811.08353521 1620.21317838 3250.47579378\n",
            " 2902.65807456 2763.10354875 2987.21687892 1933.54454584 2107.46276139\n",
            " 5344.65899914 1644.60232066 1421.50070059 2301.38496994 2652.17253973\n",
            " 2243.8907586  1810.01459312 2821.9168978  3881.89217194 3537.71187277\n",
            " 1309.93224176 3409.90527418 2326.79874654 2502.41752235 3442.03768679\n",
            " 2037.566784   2475.78453289 3186.98850839 3998.50815342 3065.60903321\n",
            " 2551.22954598 2851.19232814 3155.02823044 2902.61185768 3168.84386269\n",
            " 3446.77069217 4927.02941506 3579.27512257 3786.26642058 3871.12530059\n",
            " 1630.85226495 2170.65943574 1204.22595225 3158.2718543  2828.18058551\n",
            " 2768.71782988 3109.75870915 1781.25951255 2668.11553352 2519.94721075\n",
            " 2653.3029363  3282.91216075 2611.1117628  2389.55999439 2295.63877717\n",
            " 2616.5865146  2371.45848935 2601.43138295 2744.2291485  3492.55641084\n",
            " 1718.79556761 4105.57472131 1620.50656866 2851.67943255 1606.01766425\n",
            " 4236.16934795 2574.35407933 1758.59074027 4201.98457564 2028.99170886\n",
            " 3163.37611885 1711.02719948 2726.6360913  2685.88840525 2943.11816134\n",
            " 1423.34104228 3087.96112562 2067.38409921 2636.47311652 2312.12344414\n",
            " 3311.38739318 1621.06591477 3967.44828764 2788.88617789 2104.22924981\n",
            " 1816.27319418 1839.22667737 2350.44028189 2679.85164595 2437.21282151\n",
            " 1570.5437249  1510.34614502 4105.80886194 4724.57787101 3959.63629552\n",
            " 2374.09236292 1851.36453002 2566.02522377 1301.73197809 3160.56611772\n",
            " 3026.4985452  2670.41348942 4654.38373104 2398.74789576 2277.39258788\n",
            " 2507.24060921 3834.481174   2543.82192286 2901.59833484 2320.90401597\n",
            " 3686.66212488 3598.87311185 2249.08033026 1771.76699194 2067.42001427\n",
            " 2398.0523962  2820.42777509 1439.75550673 2422.84151848 2841.52506301\n",
            " 1873.12095869 1696.11209691 2598.71039324 2668.44331038 2297.07318144\n",
            " 1154.862451   1519.50975463 1704.58478235 1606.76290936 4318.63973022\n",
            " 2158.37854852 3981.05019534 1848.62083958 1951.780907   1948.04048757\n",
            " 2906.07858349 2436.71181288 2860.08538456 4549.07640946 2235.55836127\n",
            " 1622.76394667 2437.16473303 1927.29123082 1734.59028045 1970.09595313\n",
            " 3060.21178825 1744.805674   2475.80379999 3636.83014266 1397.18899771\n",
            " 2546.30007929 3595.41216909 2774.97158177 4487.98020978 1314.97500868\n",
            " 2588.19248124 2001.89134151 2097.39474727 2579.1580099  2038.93227105\n",
            " 4094.67349907 2283.49849056 1361.99729869 1858.52930286 1772.79284902\n",
            " 3326.47999997 2419.40859152 2533.84363901 3456.81423934 4891.52648812\n",
            " 3098.87284353 3932.09220229 2400.27945432 1384.46147778 1730.47218743\n",
            " 1369.23747983 2073.16455206 3349.88821191 2947.94636315 2267.93795408\n",
            " 2173.65472849 1779.93120191 2032.85113119 1342.31286257 1342.18838817\n",
            " 1515.83421348 2501.55991256 1965.2294813  4108.18175345 4304.54915896\n",
            " 2164.8138968  2353.14438414 3909.93997691 1241.11771778 2234.19976535\n",
            " 1389.82327995 3305.80906295 3123.70184372 2022.52092585 3468.50586825\n",
            " 1009.82033075 2373.35379909 3838.1572079  4474.90512852 3829.77514239\n",
            " 1142.48921642 1454.52958203 4871.94777976 2272.8349281  2333.98853253\n",
            " 2901.99351203 1531.5451534  2395.58147833 1130.05425922 2688.16500594\n",
            " 1644.81538345 3373.96701538 1833.2282324  3343.93210146 4116.56568021\n",
            " 1803.6186632  2800.9999021  4979.40851933 2832.06945504 2198.66768161]\n",
            "Actual shares: [1600, 1100, 904, 2500, 981, 476, 797, 1300, 1500, 8300, 2400, 2600, 2400, 3900, 3400, 1700, 2600, 774, 1000, 1100, 1200, 1200, 9000, 554, 863, 1700, 850, 2000, 2800, 2200, 928, 6700, 6600, 1700, 9200, 881, 3800, 916, 2000, 2100, 7200, 3100, 863, 1700, 935, 953, 1200, 2200, 2100, 803, 6400, 949, 1100, 4200, 3000, 897, 1300, 527, 1600, 646, 1100, 1000, 3300, 989, 9800, 1700, 1700, 642, 1700, 2700, 1300, 1200, 3100, 12500, 2100, 1600, 845, 4900, 1800, 673, 8000, 874, 2200, 2000, 873, 1700, 2800, 1200, 2100, 681, 1500, 1700, 1800, 11800, 861, 998, 4100, 5300, 8300, 1000, 478, 1400, 2900, 2100, 2100, 1600, 1200, 1500, 21000, 958, 861, 1300, 1700, 1300, 3200, 6000, 896, 808, 10000, 4500, 1800, 937, 983, 986, 2800, 7200, 1500, 1200, 725, 876, 26200, 17900, 10700, 4400, 6500, 852, 898, 3700, 1600, 816, 1400, 1100, 731, 1100, 750, 4200, 9200, 6900, 1200, 1100, 8100, 3200, 1700, 1000, 1100, 2200, 1300, 863, 2200, 3400, 4300, 3600, 2000, 1200, 1700, 711, 990, 3500, 528, 1500, 434, 754, 1200, 749, 449, 258, 756, 4900, 2500, 704, 2900, 7900, 22300, 739, 840, 1200, 640, 5300, 671, 1000, 1400, 2100, 2500, 325, 845, 1100, 14800, 2400, 3500, 7800, 1200, 831, 834, 616, 2700, 771, 1000, 1200, 4800, 1500, 1400, 3100, 885, 3200, 825, 888, 9500, 1200, 790, 1000, 986, 2200, 1400, 2400, 473, 18800, 1900, 1800, 1400, 1200, 1100, 628, 739, 2000, 729, 8400, 847, 1400, 1500, 476, 724, 494, 1200, 1400, 623, 1700, 4400, 1300, 1100, 815, 1400, 1500, 717, 856, 1900, 1100, 1800, 4000, 1200, 1700, 4200, 1800, 1700, 1400, 924, 719, 3600, 1500, 4000, 1300, 1000, 830, 1400, 2800, 3800, 803, 944, 1700, 794, 3100, 3100, 10500, 1500, 1300, 1700, 5300, 580, 846, 938, 788, 3600, 717, 4400, 1900, 786, 3900, 1800, 3000, 1000, 721, 2000, 1900, 1500, 1200, 1100, 1300, 8500, 2600, 1700, 2100, 973, 2300, 5800, 7000, 1200, 877, 5200, 1000, 3000, 1100, 21900, 3200, 14400, 1300, 2500, 3400, 6600, 1300, 1200, 966, 2600, 2100, 4000, 1800, 4400, 543, 2500, 842, 8700, 1100, 12300, 1000, 964, 3500, 2500, 786, 5700, 1100, 2900, 2500, 784, 1800, 1100, 1500, 952, 8200, 1200, 1200, 1100, 1200, 712, 561, 184, 2600, 1800, 705, 718, 4600, 2700, 1500, 1200, 1800, 833, 9600, 20700, 4100, 716, 1600, 2900, 1200, 1500, 2300, 1700, 821, 798, 7900, 6900, 866, 943, 839, 1800, 1300, 603, 2200, 1300, 16500, 719, 1800, 1700, 19100, 4300, 606, 473, 4300, 13200, 2700, 1500, 2100, 2200, 1000, 784, 1200, 1000, 3900, 4200, 787, 3900, 7300, 918, 791, 2600, 1100, 1200, 6600, 1200, 5100, 932, 1500, 3300, 6800, 2500, 1800, 630, 1200, 1600, 1500, 2300, 862, 1300, 785, 2100, 3100, 1200, 1400, 1000, 7600, 2300, 988, 871, 937, 1100, 790, 16900, 1100, 4500, 1400, 867, 4700, 637, 830, 1200, 870, 1900, 6500, 14300, 1300, 702, 667, 524, 1600, 715, 740, 578, 1500, 2600, 1900, 2100, 12300, 1900, 3300, 523, 3900, 1400, 1700, 538, 1700, 3300, 1400, 1100, 1000, 725, 23600, 868, 2100, 8500, 725, 813, 2900, 690, 1700]\n"
          ],
          "name": "stdout"
        }
      ]
    },
    {
      "cell_type": "code",
      "metadata": {
        "id": "_TIA0V0ZYa4W",
        "colab_type": "code",
        "outputId": "0bf77352-97c8-466e-a6b5-bcf1516abddb",
        "colab": {
          "base_uri": "https://localhost:8080/",
          "height": 204
        }
      },
      "source": [
        "df_sdata = pd.DataFrame(lin_reg.predict(some_X_data),list(some_y_data) )\n",
        "df_sdata.reset_index(level=0, inplace=True)\n",
        "df_ssdata = df_sdata.rename(index=str, columns={\"index\": \"Actual shares\", 0: \"Predicted shares\"})\n",
        "df_ssdata.head()"
      ],
      "execution_count": 23,
      "outputs": [
        {
          "output_type": "execute_result",
          "data": {
            "text/html": [
              "<div>\n",
              "<style scoped>\n",
              "    .dataframe tbody tr th:only-of-type {\n",
              "        vertical-align: middle;\n",
              "    }\n",
              "\n",
              "    .dataframe tbody tr th {\n",
              "        vertical-align: top;\n",
              "    }\n",
              "\n",
              "    .dataframe thead th {\n",
              "        text-align: right;\n",
              "    }\n",
              "</style>\n",
              "<table border=\"1\" class=\"dataframe\">\n",
              "  <thead>\n",
              "    <tr style=\"text-align: right;\">\n",
              "      <th></th>\n",
              "      <th>Actual shares</th>\n",
              "      <th>Predicted shares</th>\n",
              "    </tr>\n",
              "  </thead>\n",
              "  <tbody>\n",
              "    <tr>\n",
              "      <th>0</th>\n",
              "      <td>1600</td>\n",
              "      <td>2242.968689</td>\n",
              "    </tr>\n",
              "    <tr>\n",
              "      <th>1</th>\n",
              "      <td>1100</td>\n",
              "      <td>1815.356230</td>\n",
              "    </tr>\n",
              "    <tr>\n",
              "      <th>2</th>\n",
              "      <td>904</td>\n",
              "      <td>2756.112092</td>\n",
              "    </tr>\n",
              "    <tr>\n",
              "      <th>3</th>\n",
              "      <td>2500</td>\n",
              "      <td>1944.872575</td>\n",
              "    </tr>\n",
              "    <tr>\n",
              "      <th>4</th>\n",
              "      <td>981</td>\n",
              "      <td>1767.350323</td>\n",
              "    </tr>\n",
              "  </tbody>\n",
              "</table>\n",
              "</div>"
            ],
            "text/plain": [
              "   Actual shares  Predicted shares\n",
              "0           1600       2242.968689\n",
              "1           1100       1815.356230\n",
              "2            904       2756.112092\n",
              "3           2500       1944.872575\n",
              "4            981       1767.350323"
            ]
          },
          "metadata": {
            "tags": []
          },
          "execution_count": 23
        }
      ]
    },
    {
      "cell_type": "code",
      "metadata": {
        "id": "NxzoI5YHYerl",
        "colab_type": "code",
        "outputId": "a1d3f02d-5cb6-4b11-a2b0-9dfb12b2bee3",
        "colab": {
          "base_uri": "https://localhost:8080/",
          "height": 525
        }
      },
      "source": [
        "f, ax = plt.subplots(figsize=(20, 5))\n",
        "sns.regplot(x=df_ssdata[\"Actual shares\"], y=df_ssdata[\"Predicted shares\"])\n",
        "sns.plt.show()"
      ],
      "execution_count": 26,
      "outputs": [
        {
          "output_type": "error",
          "ename": "AttributeError",
          "evalue": "ignored",
          "traceback": [
            "\u001b[0;31m---------------------------------------------------------------------------\u001b[0m",
            "\u001b[0;31mAttributeError\u001b[0m                            Traceback (most recent call last)",
            "\u001b[0;32m<ipython-input-26-b9a21f9b5d72>\u001b[0m in \u001b[0;36m<module>\u001b[0;34m()\u001b[0m\n\u001b[1;32m      1\u001b[0m \u001b[0mf\u001b[0m\u001b[0;34m,\u001b[0m \u001b[0max\u001b[0m \u001b[0;34m=\u001b[0m \u001b[0mplt\u001b[0m\u001b[0;34m.\u001b[0m\u001b[0msubplots\u001b[0m\u001b[0;34m(\u001b[0m\u001b[0mfigsize\u001b[0m\u001b[0;34m=\u001b[0m\u001b[0;34m(\u001b[0m\u001b[0;36m20\u001b[0m\u001b[0;34m,\u001b[0m \u001b[0;36m5\u001b[0m\u001b[0;34m)\u001b[0m\u001b[0;34m)\u001b[0m\u001b[0;34m\u001b[0m\u001b[0;34m\u001b[0m\u001b[0m\n\u001b[1;32m      2\u001b[0m \u001b[0msns\u001b[0m\u001b[0;34m.\u001b[0m\u001b[0mregplot\u001b[0m\u001b[0;34m(\u001b[0m\u001b[0mx\u001b[0m\u001b[0;34m=\u001b[0m\u001b[0mdf_ssdata\u001b[0m\u001b[0;34m[\u001b[0m\u001b[0;34m\"Actual shares\"\u001b[0m\u001b[0;34m]\u001b[0m\u001b[0;34m,\u001b[0m \u001b[0my\u001b[0m\u001b[0;34m=\u001b[0m\u001b[0mdf_ssdata\u001b[0m\u001b[0;34m[\u001b[0m\u001b[0;34m\"Predicted shares\"\u001b[0m\u001b[0;34m]\u001b[0m\u001b[0;34m)\u001b[0m\u001b[0;34m\u001b[0m\u001b[0;34m\u001b[0m\u001b[0m\n\u001b[0;32m----> 3\u001b[0;31m \u001b[0msns\u001b[0m\u001b[0;34m.\u001b[0m\u001b[0mplt\u001b[0m\u001b[0;34m.\u001b[0m\u001b[0mshow\u001b[0m\u001b[0;34m(\u001b[0m\u001b[0;34m)\u001b[0m\u001b[0;34m\u001b[0m\u001b[0;34m\u001b[0m\u001b[0m\n\u001b[0m",
            "\u001b[0;31mAttributeError\u001b[0m: module 'seaborn' has no attribute 'plt'"
          ]
        },
        {
          "output_type": "display_data",
          "data": {
            "image/png": "[encoded data removed]",
            "text/plain": [
              "<Figure size 1440x360 with 1 Axes>"
            ]
          },
          "metadata": {
            "tags": [],
            "needs_background": "light"
          }
        }
      ]
    },
    {
      "cell_type": "markdown",
      "metadata": {
        "id": "oNn6Ffkw-akq",
        "colab_type": "text"
      },
      "source": [
        "**Check the MSE, RMSE, amd MAE of the liner regression model**"
      ]
    },
    {
      "cell_type": "code",
      "metadata": {
        "id": "t7FdlXU8-qJh",
        "colab_type": "code",
        "colab": {
          "base_uri": "https://localhost:8080/",
          "height": 35
        },
        "outputId": "d35c51fa-7fb2-425d-c5f2-7e1f482326b0"
      },
      "source": [
        "share_predictions = lin_reg.predict(X_train_set)\n",
        "lin_mse = mean_squared_error(y_train_set, share_predictions)\n",
        "print(lin_mse)"
      ],
      "execution_count": 29,
      "outputs": [
        {
          "output_type": "stream",
          "text": [
            "10709394.94218467\n"
          ],
          "name": "stdout"
        }
      ]
    },
    {
      "cell_type": "code",
      "metadata": {
        "id": "XW2pqhlpYrln",
        "colab_type": "code",
        "outputId": "faa57551-7e4d-4b95-e6a8-c970f72e8f7d",
        "colab": {
          "base_uri": "https://localhost:8080/",
          "height": 35
        }
      },
      "source": [
        "lin_rmse = np.sqrt(lin_mse)\n",
        "print(lin_rmse)"
      ],
      "execution_count": 28,
      "outputs": [
        {
          "output_type": "execute_result",
          "data": {
            "text/plain": [
              "3272.521190486728"
            ]
          },
          "metadata": {
            "tags": []
          },
          "execution_count": 28
        }
      ]
    },
    {
      "cell_type": "code",
      "metadata": {
        "id": "4dzV_1eFYxJP",
        "colab_type": "code",
        "outputId": "06c1f30f-b056-470d-f704-4f8fd56d0290",
        "colab": {
          "base_uri": "https://localhost:8080/",
          "height": 35
        }
      },
      "source": [
        "lin_mae = mean_absolute_error(y_train_set, share_predictions)\n",
        "print(lin_mae)"
      ],
      "execution_count": 30,
      "outputs": [
        {
          "output_type": "stream",
          "text": [
            "1902.580613009672\n"
          ],
          "name": "stdout"
        }
      ]
    },
    {
      "cell_type": "markdown",
      "metadata": {
        "id": "EAONmybe-_pp",
        "colab_type": "text"
      },
      "source": [
        "**Check crose validation of the liner regression model**"
      ]
    },
    {
      "cell_type": "code",
      "metadata": {
        "id": "gEWbKqF8ATgK",
        "colab_type": "code",
        "colab": {}
      },
      "source": [
        "def display(scores):\n",
        "    print(\"Scores:\", scores)\n",
        "    print(\"Mean:\", scores.mean())\n",
        "    print(\"Standard deviation:\", scores.std())"
      ],
      "execution_count": 0,
      "outputs": []
    },
    {
      "cell_type": "code",
      "metadata": {
        "id": "BlV0gZezZ0np",
        "colab_type": "code",
        "outputId": "ec1de5c8-cbfd-4915-c3e5-2fe64abadb70",
        "colab": {
          "base_uri": "https://localhost:8080/",
          "height": 71
        }
      },
      "source": [
        "lin_scores = cross_val_score(lin_reg, X_train_set, y_train_set,\n",
        "                             scoring=\"neg_mean_squared_error\", cv=10)\n",
        "lin_rmse_scores = np.sqrt(-lin_scores)\n",
        "print(lin_rmse_scores)"
      ],
      "execution_count": 43,
      "outputs": [
        {
          "output_type": "stream",
          "text": [
            "[3.28657786e+03 3.31672165e+03 3.30074939e+03 3.39138239e+03\n",
            " 3.35556725e+03 3.21619285e+03 1.52685115e+08 3.22406327e+03\n",
            " 3.22074112e+03 2.97523405e+03]\n"
          ],
          "name": "stdout"
        }
      ]
    },
    {
      "cell_type": "code",
      "metadata": {
        "id": "MDE2-9OiAVOb",
        "colab_type": "code",
        "colab": {
          "base_uri": "https://localhost:8080/",
          "height": 107
        },
        "outputId": "b7f678a3-cfc9-4e9c-d7d2-3b444456bcb0"
      },
      "source": [
        "display(lin_rmse_scores)"
      ],
      "execution_count": 44,
      "outputs": [
        {
          "output_type": "stream",
          "text": [
            "Scores: [3.28657786e+03 3.31672165e+03 3.30074939e+03 3.39138239e+03\n",
            " 3.35556725e+03 3.21619285e+03 1.52685115e+08 3.22406327e+03\n",
            " 3.22074112e+03 2.97523405e+03]\n",
            "Mean: 15271440.207779443\n",
            "Standard deviation: 45804558.213517115\n"
          ],
          "name": "stdout"
        }
      ]
    },
    {
      "cell_type": "markdown",
      "metadata": {
        "id": "k9bBImNi_Wld",
        "colab_type": "text"
      },
      "source": [
        "# Model 2: Decision Tree Model"
      ]
    },
    {
      "cell_type": "code",
      "metadata": {
        "id": "6POkzQxjY4TB",
        "colab_type": "code",
        "outputId": "3abf11f3-22ab-4ec9-88c0-fed23703e64a",
        "colab": {
          "base_uri": "https://localhost:8080/",
          "height": 125
        }
      },
      "source": [
        "tree_reg = DecisionTreeRegressor(random_state=42)\n",
        "tree_reg.fit(X_train_set, y_train_set)"
      ],
      "execution_count": 34,
      "outputs": [
        {
          "output_type": "execute_result",
          "data": {
            "text/plain": [
              "DecisionTreeRegressor(ccp_alpha=0.0, criterion='mse', max_depth=None,\n",
              "                      max_features=None, max_leaf_nodes=None,\n",
              "                      min_impurity_decrease=0.0, min_impurity_split=None,\n",
              "                      min_samples_leaf=1, min_samples_split=2,\n",
              "                      min_weight_fraction_leaf=0.0, presort='deprecated',\n",
              "                      random_state=42, splitter='best')"
            ]
          },
          "metadata": {
            "tags": []
          },
          "execution_count": 34
        }
      ]
    },
    {
      "cell_type": "code",
      "metadata": {
        "id": "6XDQ1vqrZN3Y",
        "colab_type": "code",
        "outputId": "d562545c-44fc-4f29-f735-d4c6e7188fe2",
        "colab": {
          "base_uri": "https://localhost:8080/",
          "height": 53
        }
      },
      "source": [
        "x_data = X_train_set.iloc[:5]\n",
        "y_data = y_train_set.iloc[:5]\n",
        "print(\"Predicted shares:\", tree_reg.predict(x_data))\n",
        "print(\"Actual shares:\", list(y_data))"
      ],
      "execution_count": 35,
      "outputs": [
        {
          "output_type": "stream",
          "text": [
            "Predicted shares: [1600. 1100.  904. 2500.  981.]\n",
            "Actual shares: [1600, 1100, 904, 2500, 981]\n"
          ],
          "name": "stdout"
        }
      ]
    },
    {
      "cell_type": "markdown",
      "metadata": {
        "id": "dafFSiJVAE8Q",
        "colab_type": "text"
      },
      "source": [
        "**Check the MSE, RMSE, MAE of the Decision Tree Model**"
      ]
    },
    {
      "cell_type": "code",
      "metadata": {
        "id": "nXVI_zIL_svg",
        "colab_type": "code",
        "colab": {
          "base_uri": "https://localhost:8080/",
          "height": 35
        },
        "outputId": "055dc464-855c-4115-e8ed-87e50d4037c3"
      },
      "source": [
        "share_predictions = tree_reg.predict(X_train_set)\n",
        "tree_mse = mean_squared_error(y_train_set, share_predictions)\n",
        "print(tree_mse)"
      ],
      "execution_count": 36,
      "outputs": [
        {
          "output_type": "stream",
          "text": [
            "0.0\n"
          ],
          "name": "stdout"
        }
      ]
    },
    {
      "cell_type": "code",
      "metadata": {
        "id": "ntkA7w3xZQfl",
        "colab_type": "code",
        "outputId": "efb1e753-f6c6-41cd-d8cb-c07274da34e6",
        "colab": {
          "base_uri": "https://localhost:8080/",
          "height": 35
        }
      },
      "source": [
        "tree_rmse = np.sqrt(tree_mse)\n",
        "print(tree_rmse)"
      ],
      "execution_count": 37,
      "outputs": [
        {
          "output_type": "stream",
          "text": [
            "0.0\n"
          ],
          "name": "stdout"
        }
      ]
    },
    {
      "cell_type": "code",
      "metadata": {
        "id": "oM8A-QkXZVTB",
        "colab_type": "code",
        "outputId": "e09f4dc4-1667-48c0-998c-11a375096481",
        "colab": {
          "base_uri": "https://localhost:8080/",
          "height": 35
        }
      },
      "source": [
        "tree_mae = mean_absolute_error(y_train_set, share_predictions)\n",
        "print(tree_mae)"
      ],
      "execution_count": 38,
      "outputs": [
        {
          "output_type": "stream",
          "text": [
            "0.0\n"
          ],
          "name": "stdout"
        }
      ]
    },
    {
      "cell_type": "markdown",
      "metadata": {
        "id": "ZY6docr_AxOc",
        "colab_type": "text"
      },
      "source": [
        "**Check the cross validation of the Decision Tree Model**"
      ]
    },
    {
      "cell_type": "code",
      "metadata": {
        "id": "r19nAWu6ZXlx",
        "colab_type": "code",
        "colab": {}
      },
      "source": [
        "scores = cross_val_score(tree_reg, X_train_set, y_train_set,\n",
        "                         scoring=\"neg_mean_squared_error\", cv=10)\n",
        "tree_rmse_scores = np.sqrt(-scores)"
      ],
      "execution_count": 0,
      "outputs": []
    },
    {
      "cell_type": "code",
      "metadata": {
        "id": "8u263DuGZiYu",
        "colab_type": "code",
        "outputId": "cea105ac-3c6d-4609-b9d8-6d7f235572b9",
        "colab": {
          "base_uri": "https://localhost:8080/",
          "height": 89
        }
      },
      "source": [
        "display(tree_rmse_scores)"
      ],
      "execution_count": 45,
      "outputs": [
        {
          "output_type": "stream",
          "text": [
            "Scores: [4894.08161853 4868.66108502 4744.01983937 5006.49957715 4832.42845059\n",
            " 4821.22731107 5063.71719475 4753.62527132 4835.56934752 4728.34640012]\n",
            "Mean: 4854.817609543946\n",
            "Standard deviation: 104.3507740248269\n"
          ],
          "name": "stdout"
        }
      ]
    },
    {
      "cell_type": "code",
      "metadata": {
        "id": "QXpyGIbAA7_w",
        "colab_type": "code",
        "colab": {
          "base_uri": "https://localhost:8080/",
          "height": 204
        },
        "outputId": "6b95757f-b6bc-400a-b51b-644d43854685"
      },
      "source": [
        "df_tdata = pd.DataFrame(tree_reg.predict(x_data),list(y_data) )\n",
        "df_tdata.reset_index(level=0, inplace=True)\n",
        "df_ttdata = df_tdata.rename(index=str, columns={\"index\": \"Actual shares\", 0: \"Predicted shares\"})\n",
        "df_ttdata.head()"
      ],
      "execution_count": 46,
      "outputs": [
        {
          "output_type": "execute_result",
          "data": {
            "text/html": [
              "<div>\n",
              "<style scoped>\n",
              "    .dataframe tbody tr th:only-of-type {\n",
              "        vertical-align: middle;\n",
              "    }\n",
              "\n",
              "    .dataframe tbody tr th {\n",
              "        vertical-align: top;\n",
              "    }\n",
              "\n",
              "    .dataframe thead th {\n",
              "        text-align: right;\n",
              "    }\n",
              "</style>\n",
              "<table border=\"1\" class=\"dataframe\">\n",
              "  <thead>\n",
              "    <tr style=\"text-align: right;\">\n",
              "      <th></th>\n",
              "      <th>Actual shares</th>\n",
              "      <th>Predicted shares</th>\n",
              "    </tr>\n",
              "  </thead>\n",
              "  <tbody>\n",
              "    <tr>\n",
              "      <th>0</th>\n",
              "      <td>1600</td>\n",
              "      <td>1600.0</td>\n",
              "    </tr>\n",
              "    <tr>\n",
              "      <th>1</th>\n",
              "      <td>1100</td>\n",
              "      <td>1100.0</td>\n",
              "    </tr>\n",
              "    <tr>\n",
              "      <th>2</th>\n",
              "      <td>904</td>\n",
              "      <td>904.0</td>\n",
              "    </tr>\n",
              "    <tr>\n",
              "      <th>3</th>\n",
              "      <td>2500</td>\n",
              "      <td>2500.0</td>\n",
              "    </tr>\n",
              "    <tr>\n",
              "      <th>4</th>\n",
              "      <td>981</td>\n",
              "      <td>981.0</td>\n",
              "    </tr>\n",
              "  </tbody>\n",
              "</table>\n",
              "</div>"
            ],
            "text/plain": [
              "   Actual shares  Predicted shares\n",
              "0           1600            1600.0\n",
              "1           1100            1100.0\n",
              "2            904             904.0\n",
              "3           2500            2500.0\n",
              "4            981             981.0"
            ]
          },
          "metadata": {
            "tags": []
          },
          "execution_count": 46
        }
      ]
    },
    {
      "cell_type": "code",
      "metadata": {
        "id": "lDaXHlXNBfwD",
        "colab_type": "code",
        "colab": {
          "base_uri": "https://localhost:8080/",
          "height": 525
        },
        "outputId": "4e8b5d94-efe6-4f65-e0a4-571cea2bde60"
      },
      "source": [
        "f, ax = plt.subplots(figsize=(20, 5))\n",
        "sns.regplot(x=df_ttdata[\"Actual shares\"], y=df_ttdata[\"Predicted shares\"])\n",
        "sns.plt.show()"
      ],
      "execution_count": 48,
      "outputs": [
        {
          "output_type": "error",
          "ename": "AttributeError",
          "evalue": "ignored",
          "traceback": [
            "\u001b[0;31m---------------------------------------------------------------------------\u001b[0m",
            "\u001b[0;31mAttributeError\u001b[0m                            Traceback (most recent call last)",
            "\u001b[0;32m<ipython-input-48-0b957e4ace28>\u001b[0m in \u001b[0;36m<module>\u001b[0;34m()\u001b[0m\n\u001b[1;32m      1\u001b[0m \u001b[0mf\u001b[0m\u001b[0;34m,\u001b[0m \u001b[0max\u001b[0m \u001b[0;34m=\u001b[0m \u001b[0mplt\u001b[0m\u001b[0;34m.\u001b[0m\u001b[0msubplots\u001b[0m\u001b[0;34m(\u001b[0m\u001b[0mfigsize\u001b[0m\u001b[0;34m=\u001b[0m\u001b[0;34m(\u001b[0m\u001b[0;36m20\u001b[0m\u001b[0;34m,\u001b[0m \u001b[0;36m5\u001b[0m\u001b[0;34m)\u001b[0m\u001b[0;34m)\u001b[0m\u001b[0;34m\u001b[0m\u001b[0;34m\u001b[0m\u001b[0m\n\u001b[1;32m      2\u001b[0m \u001b[0msns\u001b[0m\u001b[0;34m.\u001b[0m\u001b[0mregplot\u001b[0m\u001b[0;34m(\u001b[0m\u001b[0mx\u001b[0m\u001b[0;34m=\u001b[0m\u001b[0mdf_ttdata\u001b[0m\u001b[0;34m[\u001b[0m\u001b[0;34m\"Actual shares\"\u001b[0m\u001b[0;34m]\u001b[0m\u001b[0;34m,\u001b[0m \u001b[0my\u001b[0m\u001b[0;34m=\u001b[0m\u001b[0mdf_ttdata\u001b[0m\u001b[0;34m[\u001b[0m\u001b[0;34m\"Predicted shares\"\u001b[0m\u001b[0;34m]\u001b[0m\u001b[0;34m)\u001b[0m\u001b[0;34m\u001b[0m\u001b[0;34m\u001b[0m\u001b[0m\n\u001b[0;32m----> 3\u001b[0;31m \u001b[0msns\u001b[0m\u001b[0;34m.\u001b[0m\u001b[0mplt\u001b[0m\u001b[0;34m.\u001b[0m\u001b[0mshow\u001b[0m\u001b[0;34m(\u001b[0m\u001b[0;34m)\u001b[0m\u001b[0;34m\u001b[0m\u001b[0;34m\u001b[0m\u001b[0m\n\u001b[0m",
            "\u001b[0;31mAttributeError\u001b[0m: module 'seaborn' has no attribute 'plt'"
          ]
        },
        {
          "output_type": "display_data",
          "data": {
            "image/png": "[encoded data removed]",
            "text/plain": [
              "<Figure size 1440x360 with 1 Axes>"
            ]
          },
          "metadata": {
            "tags": [],
            "needs_background": "light"
          }
        }
      ]
    },
    {
      "cell_type": "markdown",
      "metadata": {
        "id": "nLhnog15LLr8",
        "colab_type": "text"
      },
      "source": [
        "# Model Compare with ADOVA"
      ]
    },
    {
      "cell_type": "code",
      "metadata": {
        "id": "SghvEX08Bp62",
        "colab_type": "code",
        "colab": {}
      },
      "source": [
        "import scipy.stats as stats\n",
        "import pandas as pd\n",
        "import urllib\n",
        "from statsmodels.formula.api import ols\n",
        "from statsmodels.stats.anova import anova_lm\n",
        "import warnings\n",
        "warnings.filterwarnings('ignore')"
      ],
      "execution_count": 0,
      "outputs": []
    },
    {
      "cell_type": "markdown",
      "metadata": {
        "id": "vpmp3HLKLWUO",
        "colab_type": "text"
      },
      "source": [
        "**Decision Tree ADOVA**"
      ]
    },
    {
      "cell_type": "code",
      "metadata": {
        "id": "lbauvFINIVp6",
        "colab_type": "code",
        "colab": {
          "base_uri": "https://localhost:8080/",
          "height": 204
        },
        "outputId": "9a2e88b2-0c2b-476e-dc97-169bcb7accfa"
      },
      "source": [
        "df_ttdata.head()"
      ],
      "execution_count": 55,
      "outputs": [
        {
          "output_type": "execute_result",
          "data": {
            "text/html": [
              "<div>\n",
              "<style scoped>\n",
              "    .dataframe tbody tr th:only-of-type {\n",
              "        vertical-align: middle;\n",
              "    }\n",
              "\n",
              "    .dataframe tbody tr th {\n",
              "        vertical-align: top;\n",
              "    }\n",
              "\n",
              "    .dataframe thead th {\n",
              "        text-align: right;\n",
              "    }\n",
              "</style>\n",
              "<table border=\"1\" class=\"dataframe\">\n",
              "  <thead>\n",
              "    <tr style=\"text-align: right;\">\n",
              "      <th></th>\n",
              "      <th>Actual shares</th>\n",
              "      <th>Predicted shares</th>\n",
              "    </tr>\n",
              "  </thead>\n",
              "  <tbody>\n",
              "    <tr>\n",
              "      <th>0</th>\n",
              "      <td>1600</td>\n",
              "      <td>1600.0</td>\n",
              "    </tr>\n",
              "    <tr>\n",
              "      <th>1</th>\n",
              "      <td>1100</td>\n",
              "      <td>1100.0</td>\n",
              "    </tr>\n",
              "    <tr>\n",
              "      <th>2</th>\n",
              "      <td>904</td>\n",
              "      <td>904.0</td>\n",
              "    </tr>\n",
              "    <tr>\n",
              "      <th>3</th>\n",
              "      <td>2500</td>\n",
              "      <td>2500.0</td>\n",
              "    </tr>\n",
              "    <tr>\n",
              "      <th>4</th>\n",
              "      <td>981</td>\n",
              "      <td>981.0</td>\n",
              "    </tr>\n",
              "  </tbody>\n",
              "</table>\n",
              "</div>"
            ],
            "text/plain": [
              "   Actual shares  Predicted shares\n",
              "0           1600            1600.0\n",
              "1           1100            1100.0\n",
              "2            904             904.0\n",
              "3           2500            2500.0\n",
              "4            981             981.0"
            ]
          },
          "metadata": {
            "tags": []
          },
          "execution_count": 55
        }
      ]
    },
    {
      "cell_type": "code",
      "metadata": {
        "id": "G4UR7ROLKDKg",
        "colab_type": "code",
        "colab": {
          "base_uri": "https://localhost:8080/",
          "height": 610
        },
        "outputId": "5e917fbf-e98c-4a17-9cd5-ffe53c9e26c6"
      },
      "source": [
        "df_ttdata.boxplot(column=['Actual shares', 'Predicted shares'], grid=False)"
      ],
      "execution_count": 69,
      "outputs": [
        {
          "output_type": "execute_result",
          "data": {
            "text/plain": [
              "<matplotlib.axes._subplots.AxesSubplot at 0x7f583a05e518>"
            ]
          },
          "metadata": {
            "tags": []
          },
          "execution_count": 69
        },
        {
          "output_type": "display_data",
          "data": {
            "image/png": "[encoded data removed]",
            "text/plain": [
              "<Figure size 1080x720 with 1 Axes>"
            ]
          },
          "metadata": {
            "tags": [],
            "needs_background": "light"
          }
        }
      ]
    },
    {
      "cell_type": "code",
      "metadata": {
        "id": "9URrpAhjKLun",
        "colab_type": "code",
        "colab": {
          "base_uri": "https://localhost:8080/",
          "height": 35
        },
        "outputId": "5ef28929-2c2d-4bde-9b19-aa845b5fb194"
      },
      "source": [
        "fvalue, pvalue = stats.f_oneway(df_ttdata['Actual shares'], df_ttdata['Predicted shares'])\n",
        "print(fvalue, pvalue)"
      ],
      "execution_count": 70,
      "outputs": [
        {
          "output_type": "stream",
          "text": [
            "0.0 1.0\n"
          ],
          "name": "stdout"
        }
      ]
    },
    {
      "cell_type": "code",
      "metadata": {
        "id": "vRcGyWdHKbdT",
        "colab_type": "code",
        "colab": {
          "base_uri": "https://localhost:8080/",
          "height": 111
        },
        "outputId": "eff72b65-772a-4ca7-c1e9-36cc399dd48d"
      },
      "source": [
        "import statsmodels.api as sm\n",
        "adv_m = pd.melt(df_ttdata.reset_index(), id_vars=['index'], value_vars=['Actual shares', 'Predicted shares'])\n",
        "adv_m.columns = ['index', 'treatments', 'value']\n",
        "model = ols('value ~ C(treatments)', data=adv_m).fit()\n",
        "anova_table = sm.stats.anova_lm(model, typ=2)\n",
        "anova_table"
      ],
      "execution_count": 71,
      "outputs": [
        {
          "output_type": "execute_result",
          "data": {
            "text/html": [
              "<div>\n",
              "<style scoped>\n",
              "    .dataframe tbody tr th:only-of-type {\n",
              "        vertical-align: middle;\n",
              "    }\n",
              "\n",
              "    .dataframe tbody tr th {\n",
              "        vertical-align: top;\n",
              "    }\n",
              "\n",
              "    .dataframe thead th {\n",
              "        text-align: right;\n",
              "    }\n",
              "</style>\n",
              "<table border=\"1\" class=\"dataframe\">\n",
              "  <thead>\n",
              "    <tr style=\"text-align: right;\">\n",
              "      <th></th>\n",
              "      <th>sum_sq</th>\n",
              "      <th>df</th>\n",
              "      <th>F</th>\n",
              "      <th>PR(&gt;F)</th>\n",
              "    </tr>\n",
              "  </thead>\n",
              "  <tbody>\n",
              "    <tr>\n",
              "      <th>C(treatments)</th>\n",
              "      <td>0.0</td>\n",
              "      <td>1.0</td>\n",
              "      <td>0.0</td>\n",
              "      <td>1.0</td>\n",
              "    </tr>\n",
              "    <tr>\n",
              "      <th>Residual</th>\n",
              "      <td>3520264.0</td>\n",
              "      <td>8.0</td>\n",
              "      <td>NaN</td>\n",
              "      <td>NaN</td>\n",
              "    </tr>\n",
              "  </tbody>\n",
              "</table>\n",
              "</div>"
            ],
            "text/plain": [
              "                  sum_sq   df    F  PR(>F)\n",
              "C(treatments)        0.0  1.0  0.0     1.0\n",
              "Residual       3520264.0  8.0  NaN     NaN"
            ]
          },
          "metadata": {
            "tags": []
          },
          "execution_count": 71
        }
      ]
    },
    {
      "cell_type": "markdown",
      "metadata": {
        "id": "W3M8AmkrLZgs",
        "colab_type": "text"
      },
      "source": [
        "**Liner Regression with ADOVA**"
      ]
    },
    {
      "cell_type": "code",
      "metadata": {
        "id": "gAncJ242LfGU",
        "colab_type": "code",
        "colab": {
          "base_uri": "https://localhost:8080/",
          "height": 204
        },
        "outputId": "75c094f6-1e52-4099-b4eb-d1302c5f3938"
      },
      "source": [
        "df_ssdata.head()"
      ],
      "execution_count": 72,
      "outputs": [
        {
          "output_type": "execute_result",
          "data": {
            "text/html": [
              "<div>\n",
              "<style scoped>\n",
              "    .dataframe tbody tr th:only-of-type {\n",
              "        vertical-align: middle;\n",
              "    }\n",
              "\n",
              "    .dataframe tbody tr th {\n",
              "        vertical-align: top;\n",
              "    }\n",
              "\n",
              "    .dataframe thead th {\n",
              "        text-align: right;\n",
              "    }\n",
              "</style>\n",
              "<table border=\"1\" class=\"dataframe\">\n",
              "  <thead>\n",
              "    <tr style=\"text-align: right;\">\n",
              "      <th></th>\n",
              "      <th>Actual shares</th>\n",
              "      <th>Predicted shares</th>\n",
              "    </tr>\n",
              "  </thead>\n",
              "  <tbody>\n",
              "    <tr>\n",
              "      <th>0</th>\n",
              "      <td>1600</td>\n",
              "      <td>2242.968689</td>\n",
              "    </tr>\n",
              "    <tr>\n",
              "      <th>1</th>\n",
              "      <td>1100</td>\n",
              "      <td>1815.356230</td>\n",
              "    </tr>\n",
              "    <tr>\n",
              "      <th>2</th>\n",
              "      <td>904</td>\n",
              "      <td>2756.112092</td>\n",
              "    </tr>\n",
              "    <tr>\n",
              "      <th>3</th>\n",
              "      <td>2500</td>\n",
              "      <td>1944.872575</td>\n",
              "    </tr>\n",
              "    <tr>\n",
              "      <th>4</th>\n",
              "      <td>981</td>\n",
              "      <td>1767.350323</td>\n",
              "    </tr>\n",
              "  </tbody>\n",
              "</table>\n",
              "</div>"
            ],
            "text/plain": [
              "   Actual shares  Predicted shares\n",
              "0           1600       2242.968689\n",
              "1           1100       1815.356230\n",
              "2            904       2756.112092\n",
              "3           2500       1944.872575\n",
              "4            981       1767.350323"
            ]
          },
          "metadata": {
            "tags": []
          },
          "execution_count": 72
        }
      ]
    },
    {
      "cell_type": "code",
      "metadata": {
        "id": "ZCE4s4ioLl3e",
        "colab_type": "code",
        "colab": {
          "base_uri": "https://localhost:8080/",
          "height": 610
        },
        "outputId": "b58b4975-8b6c-4d04-86c6-57cc46829891"
      },
      "source": [
        "df_ssdata.boxplot(column=['Actual shares', 'Predicted shares'], grid=False)"
      ],
      "execution_count": 73,
      "outputs": [
        {
          "output_type": "execute_result",
          "data": {
            "text/plain": [
              "<matplotlib.axes._subplots.AxesSubplot at 0x7f5839fdd1d0>"
            ]
          },
          "metadata": {
            "tags": []
          },
          "execution_count": 73
        },
        {
          "output_type": "display_data",
          "data": {
            "image/png": "[encoded data removed]",
            "text/plain": [
              "<Figure size 1080x720 with 1 Axes>"
            ]
          },
          "metadata": {
            "tags": [],
            "needs_background": "light"
          }
        }
      ]
    },
    {
      "cell_type": "code",
      "metadata": {
        "id": "dHBICignLqBg",
        "colab_type": "code",
        "colab": {
          "base_uri": "https://localhost:8080/",
          "height": 35
        },
        "outputId": "86ccf63d-a26d-4589-c1b3-847aa9b81fb0"
      },
      "source": [
        "fvalue, pvalue = stats.f_oneway(df_ssdata['Actual shares'], df_ssdata['Predicted shares'])\n",
        "print(fvalue, pvalue)"
      ],
      "execution_count": 74,
      "outputs": [
        {
          "output_type": "stream",
          "text": [
            "0.91722285633064 0.3384371607563912\n"
          ],
          "name": "stdout"
        }
      ]
    },
    {
      "cell_type": "code",
      "metadata": {
        "id": "_Ghq2uyYLvUG",
        "colab_type": "code",
        "colab": {
          "base_uri": "https://localhost:8080/",
          "height": 111
        },
        "outputId": "84ccf1ec-9bc6-408b-f336-216e9b52ed65"
      },
      "source": [
        "import statsmodels.api as sm\n",
        "adv_r = pd.melt(df_ssdata.reset_index(), id_vars=['index'], value_vars=['Actual shares', 'Predicted shares'])\n",
        "adv_r.columns = ['index', 'treatments', 'value']\n",
        "model2 = ols('value ~ C(treatments)', data=adv_r).fit()\n",
        "anova_table2 = sm.stats.anova_lm(model2, typ=2)\n",
        "anova_table2"
      ],
      "execution_count": 75,
      "outputs": [
        {
          "output_type": "execute_result",
          "data": {
            "text/html": [
              "<div>\n",
              "<style scoped>\n",
              "    .dataframe tbody tr th:only-of-type {\n",
              "        vertical-align: middle;\n",
              "    }\n",
              "\n",
              "    .dataframe tbody tr th {\n",
              "        vertical-align: top;\n",
              "    }\n",
              "\n",
              "    .dataframe thead th {\n",
              "        text-align: right;\n",
              "    }\n",
              "</style>\n",
              "<table border=\"1\" class=\"dataframe\">\n",
              "  <thead>\n",
              "    <tr style=\"text-align: right;\">\n",
              "      <th></th>\n",
              "      <th>sum_sq</th>\n",
              "      <th>df</th>\n",
              "      <th>F</th>\n",
              "      <th>PR(&gt;F)</th>\n",
              "    </tr>\n",
              "  </thead>\n",
              "  <tbody>\n",
              "    <tr>\n",
              "      <th>C(treatments)</th>\n",
              "      <td>6.371656e+06</td>\n",
              "      <td>1.0</td>\n",
              "      <td>0.917223</td>\n",
              "      <td>0.338437</td>\n",
              "    </tr>\n",
              "    <tr>\n",
              "      <th>Residual</th>\n",
              "      <td>6.932790e+09</td>\n",
              "      <td>998.0</td>\n",
              "      <td>NaN</td>\n",
              "      <td>NaN</td>\n",
              "    </tr>\n",
              "  </tbody>\n",
              "</table>\n",
              "</div>"
            ],
            "text/plain": [
              "                     sum_sq     df         F    PR(>F)\n",
              "C(treatments)  6.371656e+06    1.0  0.917223  0.338437\n",
              "Residual       6.932790e+09  998.0       NaN       NaN"
            ]
          },
          "metadata": {
            "tags": []
          },
          "execution_count": 75
        }
      ]
    }
  ]
}